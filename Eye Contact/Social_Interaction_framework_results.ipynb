{
 "cells": [
  {
   "cell_type": "markdown",
   "id": "6ff65d26",
   "metadata": {},
   "source": [
    "# Load a test split"
   ]
  },
  {
   "cell_type": "code",
   "execution_count": 1,
   "id": "993ecad9",
   "metadata": {},
   "outputs": [],
   "source": [
    "import os\n",
    "import json\n",
    "split_num=1\n",
    "data_dir = \".\"\n",
    "label_file = os.path.join(data_dir, \"testset\",f\"testset_split_{split_num}_rawframes.txt\")\n",
    "prob_files = []\n",
    "for root, dirs, files in os.walk(data_dir):\n",
    "    for file in files:\n",
    "        if file.endswith(f\"_split{split_num}.json\"):\n",
    "            prob_files.append(os.path.join(root, file))"
   ]
  },
  {
   "cell_type": "code",
   "execution_count": 2,
   "id": "160f2405",
   "metadata": {},
   "outputs": [],
   "source": [
    "import numpy as np\n",
    "participant = []\n",
    "camera = []\n",
    "segment = []\n",
    "GT = []\n",
    "with open(label_file, \"r\") as f:\n",
    "    for line in f:\n",
    "        labels_raw = line.strip().split(\" \")\n",
    "        participant.append(labels_raw[0].split(\"_\")[1])\n",
    "        camera.append(labels_raw[0].split(\"_\")[3])\n",
    "        segment.append(labels_raw[0].split(\"_\")[7])\n",
    "        GT.append(int(labels_raw[2]))\n",
    "labels_raw = np.array(labels_raw)\n",
    "probs = []\n",
    "probs_flow = []\n",
    "probs_rgb = []\n",
    "for prob_file in prob_files:\n",
    "    if (\"flow\" in prob_file):\n",
    "        probs_flow.append(json.load(open(prob_file, \"r\")))\n",
    "    elif(\"rgb\" in prob_file):\n",
    "        probs_rgb.append(json.load(open(prob_file, \"r\")))\n",
    "\n",
    "    probs.append(json.load(open(prob_file, \"r\")))\n",
    "probs_rgb = np.array(probs_rgb)\n",
    "probs_flow = np.array(probs_flow)\n",
    "probs_rgb = np.mean(probs_rgb, axis=0)\n",
    "probs_flow = np.mean(probs_flow, axis=0)\n",
    "probs = np.array(probs)\n",
    "probs_avg = np.mean(probs, axis=0)\n",
    "# probs_avg.shape"
   ]
  },
  {
   "cell_type": "markdown",
   "id": "9bf481bb",
   "metadata": {},
   "source": [
    "## Merge the predicted results to 1) Average between RGB_FLOW, RGB/Flow Alone"
   ]
  },
  {
   "cell_type": "code",
   "execution_count": 3,
   "id": "539f2279",
   "metadata": {},
   "outputs": [],
   "source": [
    "import pandas as pd\n",
    "prob_avg_RGB_FLOW = pd.DataFrame({\n",
    "        'Participant': participant,\n",
    "        'Camera': camera,\n",
    "        'Segment': segment,\n",
    "        'Prob 0': probs_avg[:, 0], ## Other prob\n",
    "        'Prob 1': probs_avg[:, 1],## EyeContact prob\n",
    "        'GT': GT\n",
    "})\n",
    "prob_single_RGB = pd.DataFrame({\n",
    "        'Participant': participant,\n",
    "        'Camera': camera,\n",
    "        'Segment': segment,\n",
    "        'Prob 0': probs_rgb[:, 0], ## Other prob\n",
    "        'Prob 1': probs_rgb[:, 1],## EyeContact prob\n",
    "        'GT': GT\n",
    "})\n",
    "prob_single_FLOW = pd.DataFrame({\n",
    "        'Participant': participant,\n",
    "        'Camera': camera,\n",
    "        'Segment': segment,\n",
    "        'Prob 0': probs_flow[:, 0], ## Other prob\n",
    "        'Prob 1': probs_flow[:, 1],## EyeContact prob\n",
    "        'GT': GT\n",
    "})\n"
   ]
  },
  {
   "cell_type": "markdown",
   "id": "1ff49c94",
   "metadata": {},
   "source": [
    "### Multiview on RGB Only"
   ]
  },
  {
   "cell_type": "code",
   "execution_count": 4,
   "id": "d76dc9c2",
   "metadata": {},
   "outputs": [
    {
     "data": {
      "text/html": [
       "<div>\n",
       "<style scoped>\n",
       "    .dataframe tbody tr th:only-of-type {\n",
       "        vertical-align: middle;\n",
       "    }\n",
       "\n",
       "    .dataframe tbody tr th {\n",
       "        vertical-align: top;\n",
       "    }\n",
       "\n",
       "    .dataframe thead th {\n",
       "        text-align: right;\n",
       "    }\n",
       "</style>\n",
       "<table border=\"1\" class=\"dataframe\">\n",
       "  <thead>\n",
       "    <tr style=\"text-align: right;\">\n",
       "      <th></th>\n",
       "      <th></th>\n",
       "      <th></th>\n",
       "      <th>Camera</th>\n",
       "      <th>Prob 0</th>\n",
       "      <th>Prob 1</th>\n",
       "      <th>Pred</th>\n",
       "    </tr>\n",
       "    <tr>\n",
       "      <th>Participant</th>\n",
       "      <th>Segment</th>\n",
       "      <th>GT</th>\n",
       "      <th></th>\n",
       "      <th></th>\n",
       "      <th></th>\n",
       "      <th></th>\n",
       "    </tr>\n",
       "  </thead>\n",
       "  <tbody>\n",
       "    <tr>\n",
       "      <th rowspan=\"5\" valign=\"top\">Autism0001</th>\n",
       "      <th rowspan=\"2\" valign=\"top\">1</th>\n",
       "      <th>0</th>\n",
       "      <td>[C1, C3, C2, C4]</td>\n",
       "      <td>0.992223</td>\n",
       "      <td>7.776808e-03</td>\n",
       "      <td>0</td>\n",
       "    </tr>\n",
       "    <tr>\n",
       "      <th>1</th>\n",
       "      <td>[C4, C3, C1, C2]</td>\n",
       "      <td>0.238791</td>\n",
       "      <td>7.612089e-01</td>\n",
       "      <td>1</td>\n",
       "    </tr>\n",
       "    <tr>\n",
       "      <th>10</th>\n",
       "      <th>1</th>\n",
       "      <td>[C2, C1, C4, C3]</td>\n",
       "      <td>0.094819</td>\n",
       "      <td>9.051806e-01</td>\n",
       "      <td>1</td>\n",
       "    </tr>\n",
       "    <tr>\n",
       "      <th>11</th>\n",
       "      <th>0</th>\n",
       "      <td>[C3, C2, C1, C4]</td>\n",
       "      <td>0.927710</td>\n",
       "      <td>7.229006e-02</td>\n",
       "      <td>0</td>\n",
       "    </tr>\n",
       "    <tr>\n",
       "      <th>12</th>\n",
       "      <th>0</th>\n",
       "      <td>[C3, C4, C1, C2]</td>\n",
       "      <td>0.538160</td>\n",
       "      <td>4.618400e-01</td>\n",
       "      <td>0</td>\n",
       "    </tr>\n",
       "    <tr>\n",
       "      <th>...</th>\n",
       "      <th>...</th>\n",
       "      <th>...</th>\n",
       "      <td>...</td>\n",
       "      <td>...</td>\n",
       "      <td>...</td>\n",
       "      <td>...</td>\n",
       "    </tr>\n",
       "    <tr>\n",
       "      <th rowspan=\"3\" valign=\"top\">Control0032</th>\n",
       "      <th>6</th>\n",
       "      <th>0</th>\n",
       "      <td>[C4, C3, C1, C2]</td>\n",
       "      <td>1.000000</td>\n",
       "      <td>7.383331e-08</td>\n",
       "      <td>0</td>\n",
       "    </tr>\n",
       "    <tr>\n",
       "      <th>7</th>\n",
       "      <th>0</th>\n",
       "      <td>[C3, C2, C4, C1]</td>\n",
       "      <td>0.821956</td>\n",
       "      <td>1.780438e-01</td>\n",
       "      <td>0</td>\n",
       "    </tr>\n",
       "    <tr>\n",
       "      <th>8</th>\n",
       "      <th>0</th>\n",
       "      <td>[C3, C2, C4, C1]</td>\n",
       "      <td>0.983521</td>\n",
       "      <td>1.647880e-02</td>\n",
       "      <td>0</td>\n",
       "    </tr>\n",
       "    <tr>\n",
       "      <th rowspan=\"2\" valign=\"top\">Control0033</th>\n",
       "      <th>1</th>\n",
       "      <th>0</th>\n",
       "      <td>[C1, C3, C2, C4]</td>\n",
       "      <td>0.999977</td>\n",
       "      <td>2.251134e-05</td>\n",
       "      <td>0</td>\n",
       "    </tr>\n",
       "    <tr>\n",
       "      <th>2</th>\n",
       "      <th>0</th>\n",
       "      <td>[C2, C1, C3, C4]</td>\n",
       "      <td>1.000000</td>\n",
       "      <td>9.969288e-11</td>\n",
       "      <td>0</td>\n",
       "    </tr>\n",
       "  </tbody>\n",
       "</table>\n",
       "<p>742 rows × 4 columns</p>\n",
       "</div>"
      ],
      "text/plain": [
       "                                  Camera    Prob 0        Prob 1  Pred\n",
       "Participant Segment GT                                                \n",
       "Autism0001  1       0   [C1, C3, C2, C4]  0.992223  7.776808e-03     0\n",
       "                    1   [C4, C3, C1, C2]  0.238791  7.612089e-01     1\n",
       "            10      1   [C2, C1, C4, C3]  0.094819  9.051806e-01     1\n",
       "            11      0   [C3, C2, C1, C4]  0.927710  7.229006e-02     0\n",
       "            12      0   [C3, C4, C1, C2]  0.538160  4.618400e-01     0\n",
       "...                                  ...       ...           ...   ...\n",
       "Control0032 6       0   [C4, C3, C1, C2]  1.000000  7.383331e-08     0\n",
       "            7       0   [C3, C2, C4, C1]  0.821956  1.780438e-01     0\n",
       "            8       0   [C3, C2, C4, C1]  0.983521  1.647880e-02     0\n",
       "Control0033 1       0   [C1, C3, C2, C4]  0.999977  2.251134e-05     0\n",
       "            2       0   [C2, C1, C3, C4]  1.000000  9.969288e-11     0\n",
       "\n",
       "[742 rows x 4 columns]"
      ]
     },
     "execution_count": 4,
     "metadata": {},
     "output_type": "execute_result"
    }
   ],
   "source": [
    "data_participant_segment_rgb = prob_single_RGB.groupby([\"Participant\",\"Segment\",\"GT\"]).agg(\n",
    "                                {\n",
    "                                    'Camera': list,\n",
    "                                    'Prob 0': np.mean,\n",
    "                                    'Prob 1': np.mean\n",
    "                                })\n",
    "data_participant_segment_rgb['Pred'] = np.where(data_participant_segment_rgb['Prob 0'] > data_participant_segment_rgb['Prob 1'], \n",
    "                                                0, 1)\n",
    "data_participant_segment_rgb"
   ]
  },
  {
   "cell_type": "markdown",
   "id": "1098b31a",
   "metadata": {},
   "source": [
    "### Multiview on Flow Only"
   ]
  },
  {
   "cell_type": "code",
   "execution_count": 5,
   "id": "ce5561be",
   "metadata": {},
   "outputs": [
    {
     "data": {
      "text/html": [
       "<div>\n",
       "<style scoped>\n",
       "    .dataframe tbody tr th:only-of-type {\n",
       "        vertical-align: middle;\n",
       "    }\n",
       "\n",
       "    .dataframe tbody tr th {\n",
       "        vertical-align: top;\n",
       "    }\n",
       "\n",
       "    .dataframe thead th {\n",
       "        text-align: right;\n",
       "    }\n",
       "</style>\n",
       "<table border=\"1\" class=\"dataframe\">\n",
       "  <thead>\n",
       "    <tr style=\"text-align: right;\">\n",
       "      <th></th>\n",
       "      <th></th>\n",
       "      <th></th>\n",
       "      <th>Camera</th>\n",
       "      <th>Prob 0</th>\n",
       "      <th>Prob 1</th>\n",
       "      <th>Pred</th>\n",
       "    </tr>\n",
       "    <tr>\n",
       "      <th>Participant</th>\n",
       "      <th>Segment</th>\n",
       "      <th>GT</th>\n",
       "      <th></th>\n",
       "      <th></th>\n",
       "      <th></th>\n",
       "      <th></th>\n",
       "    </tr>\n",
       "  </thead>\n",
       "  <tbody>\n",
       "    <tr>\n",
       "      <th rowspan=\"5\" valign=\"top\">Autism0001</th>\n",
       "      <th rowspan=\"2\" valign=\"top\">1</th>\n",
       "      <th>0</th>\n",
       "      <td>[C1, C3, C2, C4]</td>\n",
       "      <td>0.998786</td>\n",
       "      <td>0.001214</td>\n",
       "      <td>0</td>\n",
       "    </tr>\n",
       "    <tr>\n",
       "      <th>1</th>\n",
       "      <td>[C4, C3, C1, C2]</td>\n",
       "      <td>0.275927</td>\n",
       "      <td>0.724073</td>\n",
       "      <td>1</td>\n",
       "    </tr>\n",
       "    <tr>\n",
       "      <th>10</th>\n",
       "      <th>1</th>\n",
       "      <td>[C2, C1, C4, C3]</td>\n",
       "      <td>0.227845</td>\n",
       "      <td>0.772155</td>\n",
       "      <td>1</td>\n",
       "    </tr>\n",
       "    <tr>\n",
       "      <th>11</th>\n",
       "      <th>0</th>\n",
       "      <td>[C3, C2, C1, C4]</td>\n",
       "      <td>0.848472</td>\n",
       "      <td>0.151528</td>\n",
       "      <td>0</td>\n",
       "    </tr>\n",
       "    <tr>\n",
       "      <th>12</th>\n",
       "      <th>0</th>\n",
       "      <td>[C3, C4, C1, C2]</td>\n",
       "      <td>0.837121</td>\n",
       "      <td>0.162879</td>\n",
       "      <td>0</td>\n",
       "    </tr>\n",
       "    <tr>\n",
       "      <th>...</th>\n",
       "      <th>...</th>\n",
       "      <th>...</th>\n",
       "      <td>...</td>\n",
       "      <td>...</td>\n",
       "      <td>...</td>\n",
       "      <td>...</td>\n",
       "    </tr>\n",
       "    <tr>\n",
       "      <th rowspan=\"3\" valign=\"top\">Control0032</th>\n",
       "      <th>6</th>\n",
       "      <th>0</th>\n",
       "      <td>[C4, C3, C1, C2]</td>\n",
       "      <td>0.919899</td>\n",
       "      <td>0.080101</td>\n",
       "      <td>0</td>\n",
       "    </tr>\n",
       "    <tr>\n",
       "      <th>7</th>\n",
       "      <th>0</th>\n",
       "      <td>[C3, C2, C4, C1]</td>\n",
       "      <td>0.599302</td>\n",
       "      <td>0.400698</td>\n",
       "      <td>0</td>\n",
       "    </tr>\n",
       "    <tr>\n",
       "      <th>8</th>\n",
       "      <th>0</th>\n",
       "      <td>[C3, C2, C4, C1]</td>\n",
       "      <td>0.636924</td>\n",
       "      <td>0.363076</td>\n",
       "      <td>0</td>\n",
       "    </tr>\n",
       "    <tr>\n",
       "      <th rowspan=\"2\" valign=\"top\">Control0033</th>\n",
       "      <th>1</th>\n",
       "      <th>0</th>\n",
       "      <td>[C1, C3, C2, C4]</td>\n",
       "      <td>0.980560</td>\n",
       "      <td>0.019440</td>\n",
       "      <td>0</td>\n",
       "    </tr>\n",
       "    <tr>\n",
       "      <th>2</th>\n",
       "      <th>0</th>\n",
       "      <td>[C2, C1, C3, C4]</td>\n",
       "      <td>0.964254</td>\n",
       "      <td>0.035746</td>\n",
       "      <td>0</td>\n",
       "    </tr>\n",
       "  </tbody>\n",
       "</table>\n",
       "<p>742 rows × 4 columns</p>\n",
       "</div>"
      ],
      "text/plain": [
       "                                  Camera    Prob 0    Prob 1  Pred\n",
       "Participant Segment GT                                            \n",
       "Autism0001  1       0   [C1, C3, C2, C4]  0.998786  0.001214     0\n",
       "                    1   [C4, C3, C1, C2]  0.275927  0.724073     1\n",
       "            10      1   [C2, C1, C4, C3]  0.227845  0.772155     1\n",
       "            11      0   [C3, C2, C1, C4]  0.848472  0.151528     0\n",
       "            12      0   [C3, C4, C1, C2]  0.837121  0.162879     0\n",
       "...                                  ...       ...       ...   ...\n",
       "Control0032 6       0   [C4, C3, C1, C2]  0.919899  0.080101     0\n",
       "            7       0   [C3, C2, C4, C1]  0.599302  0.400698     0\n",
       "            8       0   [C3, C2, C4, C1]  0.636924  0.363076     0\n",
       "Control0033 1       0   [C1, C3, C2, C4]  0.980560  0.019440     0\n",
       "            2       0   [C2, C1, C3, C4]  0.964254  0.035746     0\n",
       "\n",
       "[742 rows x 4 columns]"
      ]
     },
     "execution_count": 5,
     "metadata": {},
     "output_type": "execute_result"
    }
   ],
   "source": [
    "data_participant_segment_flow = prob_single_FLOW.groupby([\"Participant\",\"Segment\",\"GT\"]).agg(\n",
    "                                {\n",
    "                                    'Camera': list,\n",
    "                                    'Prob 0': np.mean,\n",
    "                                    'Prob 1': np.mean\n",
    "                                })\n",
    "data_participant_segment_flow['Pred'] = np.where(data_participant_segment_flow['Prob 0'] > data_participant_segment_flow['Prob 1'], \n",
    "                                                0, 1)\n",
    "data_participant_segment_flow"
   ]
  },
  {
   "cell_type": "markdown",
   "id": "65fde032",
   "metadata": {},
   "source": [
    "### Multiview on Averaged RGB/Flow"
   ]
  },
  {
   "cell_type": "code",
   "execution_count": 6,
   "id": "de4d5a28",
   "metadata": {},
   "outputs": [
    {
     "data": {
      "text/html": [
       "<div>\n",
       "<style scoped>\n",
       "    .dataframe tbody tr th:only-of-type {\n",
       "        vertical-align: middle;\n",
       "    }\n",
       "\n",
       "    .dataframe tbody tr th {\n",
       "        vertical-align: top;\n",
       "    }\n",
       "\n",
       "    .dataframe thead th {\n",
       "        text-align: right;\n",
       "    }\n",
       "</style>\n",
       "<table border=\"1\" class=\"dataframe\">\n",
       "  <thead>\n",
       "    <tr style=\"text-align: right;\">\n",
       "      <th></th>\n",
       "      <th></th>\n",
       "      <th></th>\n",
       "      <th>Camera</th>\n",
       "      <th>Prob 0</th>\n",
       "      <th>Prob 1</th>\n",
       "      <th>Pred</th>\n",
       "    </tr>\n",
       "    <tr>\n",
       "      <th>Participant</th>\n",
       "      <th>Segment</th>\n",
       "      <th>GT</th>\n",
       "      <th></th>\n",
       "      <th></th>\n",
       "      <th></th>\n",
       "      <th></th>\n",
       "    </tr>\n",
       "  </thead>\n",
       "  <tbody>\n",
       "    <tr>\n",
       "      <th rowspan=\"5\" valign=\"top\">Autism0001</th>\n",
       "      <th rowspan=\"2\" valign=\"top\">1</th>\n",
       "      <th>0</th>\n",
       "      <td>[C1, C3, C2, C4]</td>\n",
       "      <td>0.995505</td>\n",
       "      <td>0.004495</td>\n",
       "      <td>0</td>\n",
       "    </tr>\n",
       "    <tr>\n",
       "      <th>1</th>\n",
       "      <td>[C4, C3, C1, C2]</td>\n",
       "      <td>0.257359</td>\n",
       "      <td>0.742641</td>\n",
       "      <td>1</td>\n",
       "    </tr>\n",
       "    <tr>\n",
       "      <th>10</th>\n",
       "      <th>1</th>\n",
       "      <td>[C2, C1, C4, C3]</td>\n",
       "      <td>0.161332</td>\n",
       "      <td>0.838668</td>\n",
       "      <td>1</td>\n",
       "    </tr>\n",
       "    <tr>\n",
       "      <th>11</th>\n",
       "      <th>0</th>\n",
       "      <td>[C3, C2, C1, C4]</td>\n",
       "      <td>0.888091</td>\n",
       "      <td>0.111909</td>\n",
       "      <td>0</td>\n",
       "    </tr>\n",
       "    <tr>\n",
       "      <th>12</th>\n",
       "      <th>0</th>\n",
       "      <td>[C3, C4, C1, C2]</td>\n",
       "      <td>0.687640</td>\n",
       "      <td>0.312360</td>\n",
       "      <td>0</td>\n",
       "    </tr>\n",
       "    <tr>\n",
       "      <th>...</th>\n",
       "      <th>...</th>\n",
       "      <th>...</th>\n",
       "      <td>...</td>\n",
       "      <td>...</td>\n",
       "      <td>...</td>\n",
       "      <td>...</td>\n",
       "    </tr>\n",
       "    <tr>\n",
       "      <th rowspan=\"3\" valign=\"top\">Control0032</th>\n",
       "      <th>6</th>\n",
       "      <th>0</th>\n",
       "      <td>[C4, C3, C1, C2]</td>\n",
       "      <td>0.959949</td>\n",
       "      <td>0.040051</td>\n",
       "      <td>0</td>\n",
       "    </tr>\n",
       "    <tr>\n",
       "      <th>7</th>\n",
       "      <th>0</th>\n",
       "      <td>[C3, C2, C4, C1]</td>\n",
       "      <td>0.710629</td>\n",
       "      <td>0.289371</td>\n",
       "      <td>0</td>\n",
       "    </tr>\n",
       "    <tr>\n",
       "      <th>8</th>\n",
       "      <th>0</th>\n",
       "      <td>[C3, C2, C4, C1]</td>\n",
       "      <td>0.810223</td>\n",
       "      <td>0.189777</td>\n",
       "      <td>0</td>\n",
       "    </tr>\n",
       "    <tr>\n",
       "      <th rowspan=\"2\" valign=\"top\">Control0033</th>\n",
       "      <th>1</th>\n",
       "      <th>0</th>\n",
       "      <td>[C1, C3, C2, C4]</td>\n",
       "      <td>0.990269</td>\n",
       "      <td>0.009731</td>\n",
       "      <td>0</td>\n",
       "    </tr>\n",
       "    <tr>\n",
       "      <th>2</th>\n",
       "      <th>0</th>\n",
       "      <td>[C2, C1, C3, C4]</td>\n",
       "      <td>0.982127</td>\n",
       "      <td>0.017873</td>\n",
       "      <td>0</td>\n",
       "    </tr>\n",
       "  </tbody>\n",
       "</table>\n",
       "<p>742 rows × 4 columns</p>\n",
       "</div>"
      ],
      "text/plain": [
       "                                  Camera    Prob 0    Prob 1  Pred\n",
       "Participant Segment GT                                            \n",
       "Autism0001  1       0   [C1, C3, C2, C4]  0.995505  0.004495     0\n",
       "                    1   [C4, C3, C1, C2]  0.257359  0.742641     1\n",
       "            10      1   [C2, C1, C4, C3]  0.161332  0.838668     1\n",
       "            11      0   [C3, C2, C1, C4]  0.888091  0.111909     0\n",
       "            12      0   [C3, C4, C1, C2]  0.687640  0.312360     0\n",
       "...                                  ...       ...       ...   ...\n",
       "Control0032 6       0   [C4, C3, C1, C2]  0.959949  0.040051     0\n",
       "            7       0   [C3, C2, C4, C1]  0.710629  0.289371     0\n",
       "            8       0   [C3, C2, C4, C1]  0.810223  0.189777     0\n",
       "Control0033 1       0   [C1, C3, C2, C4]  0.990269  0.009731     0\n",
       "            2       0   [C2, C1, C3, C4]  0.982127  0.017873     0\n",
       "\n",
       "[742 rows x 4 columns]"
      ]
     },
     "execution_count": 6,
     "metadata": {},
     "output_type": "execute_result"
    }
   ],
   "source": [
    "data_participant_segment = prob_avg_RGB_FLOW.groupby([\"Participant\",\"Segment\",\"GT\"]).agg(\n",
    "                                {\n",
    "                                    'Camera': list,\n",
    "                                    'Prob 0': np.mean,\n",
    "                                    'Prob 1': np.mean\n",
    "                                })\n",
    "data_participant_segment['Pred'] = np.where(data_participant_segment['Prob 0'] > data_participant_segment['Prob 1'], \n",
    "                                                0, 1)\n",
    "data_participant_segment\n"
   ]
  },
  {
   "cell_type": "markdown",
   "id": "d44b6c6a",
   "metadata": {},
   "source": [
    "## Save the predictions into excel"
   ]
  },
  {
   "cell_type": "code",
   "execution_count": 7,
   "id": "64a935a3",
   "metadata": {},
   "outputs": [],
   "source": [
    "# multiview RGB Channel\n",
    "output = os.path.join(data_dir,\"results\",f\"baseline_result_multiview_RGB_channel_split_{split_num}.xlsx\")\n",
    "data_participant_segment_rgb.to_excel(output)"
   ]
  },
  {
   "cell_type": "code",
   "execution_count": 8,
   "id": "4ddfe1c3",
   "metadata": {},
   "outputs": [],
   "source": [
    "# multiview Flow Channel\n",
    "output = os.path.join(data_dir,\"results\", f\"baseline_result_multiview_Flow_channel_split_{split_num}.xlsx\")\n",
    "data_participant_segment_flow.to_excel(output)"
   ]
  },
  {
   "cell_type": "code",
   "execution_count": 9,
   "id": "00dbbdb5",
   "metadata": {},
   "outputs": [],
   "source": [
    "# multiview fusion\n",
    "output = os.path.join(data_dir,\"results\", f\"baseline_result_multiview_fusion_split_{split_num}.xlsx\")\n",
    "data_participant_segment.to_excel(output)"
   ]
  },
  {
   "cell_type": "code",
   "execution_count": 10,
   "id": "382e3363",
   "metadata": {},
   "outputs": [],
   "source": [
    "#single view RGB\n",
    "prob_single_RGB['Pred'] = np.where(prob_single_RGB['Prob 0'] > prob_single_RGB['Prob 1'], \n",
    "                                                0, 1)\n",
    "output_single = os.path.join(data_dir,\"results\", f\"baseline_result_singleview_RGB_split_{split_num}.xlsx\")\n",
    "prob_single_RGB.to_excel(output_single)"
   ]
  },
  {
   "cell_type": "code",
   "execution_count": 11,
   "id": "b0db9076",
   "metadata": {},
   "outputs": [],
   "source": [
    "#single view Flow\n",
    "prob_single_FLOW['Pred'] = np.where(prob_single_FLOW['Prob 0'] > prob_single_FLOW['Prob 1'], \n",
    "                                                0, 1)\n",
    "output_single = os.path.join(data_dir,\"results\", f\"baseline_result_singleview_Flow_split_{split_num}.xlsx\")\n",
    "prob_single_FLOW.to_excel(output_single)"
   ]
  },
  {
   "cell_type": "code",
   "execution_count": 12,
   "id": "0cc63379",
   "metadata": {},
   "outputs": [],
   "source": [
    "#single view fusion\n",
    "prob_avg_RGB_FLOW['Pred'] = np.where(prob_avg_RGB_FLOW['Prob 0'] > prob_avg_RGB_FLOW['Prob 1'], \n",
    "                                                0, 1)\n",
    "output_single =os.path.join(data_dir,\"results\", f\"baseline_result_singleview_fusion_split_{split_num}.xlsx\")\n",
    "prob_avg_RGB_FLOW.to_excel(output_single)"
   ]
  },
  {
   "cell_type": "markdown",
   "id": "ccca8b51",
   "metadata": {},
   "source": [
    "# Single View Performance"
   ]
  },
  {
   "cell_type": "code",
   "execution_count": 13,
   "id": "6a5c2f37",
   "metadata": {},
   "outputs": [],
   "source": [
    "import pandas as pd\n",
    "\n",
    "results_table_single_rgb = pd.read_excel (os.path.join(data_dir,\"results\", f\"baseline_result_singleview_RGB_split_{split_num}.xlsx\"))\n",
    "results_table_single_flow = pd.read_excel (os.path.join(data_dir,\"results\", f\"baseline_result_singleview_Flow_split_{split_num}.xlsx\"))\n",
    "results_table_single_fusion = pd.read_excel (os.path.join(data_dir,\"results\", f\"baseline_result_singleview_fusion_split_{split_num}.xlsx\"))"
   ]
  },
  {
   "cell_type": "code",
   "execution_count": 14,
   "id": "1c591225",
   "metadata": {},
   "outputs": [
    {
     "data": {
      "text/html": [
       "<div>\n",
       "<style scoped>\n",
       "    .dataframe tbody tr th:only-of-type {\n",
       "        vertical-align: middle;\n",
       "    }\n",
       "\n",
       "    .dataframe tbody tr th {\n",
       "        vertical-align: top;\n",
       "    }\n",
       "\n",
       "    .dataframe thead th {\n",
       "        text-align: right;\n",
       "    }\n",
       "</style>\n",
       "<table border=\"1\" class=\"dataframe\">\n",
       "  <thead>\n",
       "    <tr style=\"text-align: right;\">\n",
       "      <th></th>\n",
       "      <th>Unnamed: 0</th>\n",
       "      <th>Participant</th>\n",
       "      <th>Camera</th>\n",
       "      <th>Segment</th>\n",
       "      <th>Prob 0</th>\n",
       "      <th>Prob 1</th>\n",
       "      <th>GT</th>\n",
       "      <th>Pred</th>\n",
       "    </tr>\n",
       "  </thead>\n",
       "  <tbody>\n",
       "    <tr>\n",
       "      <th>1</th>\n",
       "      <td>1</td>\n",
       "      <td>Autism0102</td>\n",
       "      <td>C1</td>\n",
       "      <td>23</td>\n",
       "      <td>0.533965</td>\n",
       "      <td>0.466035</td>\n",
       "      <td>0</td>\n",
       "      <td>0</td>\n",
       "    </tr>\n",
       "    <tr>\n",
       "      <th>2</th>\n",
       "      <td>2</td>\n",
       "      <td>Autism0094</td>\n",
       "      <td>C2</td>\n",
       "      <td>2</td>\n",
       "      <td>0.665587</td>\n",
       "      <td>0.334413</td>\n",
       "      <td>0</td>\n",
       "      <td>0</td>\n",
       "    </tr>\n",
       "    <tr>\n",
       "      <th>3</th>\n",
       "      <td>3</td>\n",
       "      <td>Autism0005</td>\n",
       "      <td>C2</td>\n",
       "      <td>17</td>\n",
       "      <td>0.771069</td>\n",
       "      <td>0.228930</td>\n",
       "      <td>0</td>\n",
       "      <td>0</td>\n",
       "    </tr>\n",
       "    <tr>\n",
       "      <th>4</th>\n",
       "      <td>4</td>\n",
       "      <td>Autism0100</td>\n",
       "      <td>C1</td>\n",
       "      <td>7</td>\n",
       "      <td>0.178666</td>\n",
       "      <td>0.821334</td>\n",
       "      <td>1</td>\n",
       "      <td>1</td>\n",
       "    </tr>\n",
       "    <tr>\n",
       "      <th>5</th>\n",
       "      <td>5</td>\n",
       "      <td>Autism0012</td>\n",
       "      <td>C2</td>\n",
       "      <td>9</td>\n",
       "      <td>0.997949</td>\n",
       "      <td>0.002051</td>\n",
       "      <td>0</td>\n",
       "      <td>0</td>\n",
       "    </tr>\n",
       "    <tr>\n",
       "      <th>...</th>\n",
       "      <td>...</td>\n",
       "      <td>...</td>\n",
       "      <td>...</td>\n",
       "      <td>...</td>\n",
       "      <td>...</td>\n",
       "      <td>...</td>\n",
       "      <td>...</td>\n",
       "      <td>...</td>\n",
       "    </tr>\n",
       "    <tr>\n",
       "      <th>2909</th>\n",
       "      <td>2909</td>\n",
       "      <td>Autism0024</td>\n",
       "      <td>C2</td>\n",
       "      <td>3</td>\n",
       "      <td>0.071503</td>\n",
       "      <td>0.928497</td>\n",
       "      <td>1</td>\n",
       "      <td>1</td>\n",
       "    </tr>\n",
       "    <tr>\n",
       "      <th>2910</th>\n",
       "      <td>2910</td>\n",
       "      <td>Autism0104</td>\n",
       "      <td>C3</td>\n",
       "      <td>7</td>\n",
       "      <td>0.447505</td>\n",
       "      <td>0.552495</td>\n",
       "      <td>1</td>\n",
       "      <td>1</td>\n",
       "    </tr>\n",
       "    <tr>\n",
       "      <th>2912</th>\n",
       "      <td>2912</td>\n",
       "      <td>Autism0019</td>\n",
       "      <td>C2</td>\n",
       "      <td>2</td>\n",
       "      <td>0.931752</td>\n",
       "      <td>0.068248</td>\n",
       "      <td>0</td>\n",
       "      <td>0</td>\n",
       "    </tr>\n",
       "    <tr>\n",
       "      <th>2913</th>\n",
       "      <td>2913</td>\n",
       "      <td>Autism0080</td>\n",
       "      <td>C3</td>\n",
       "      <td>2</td>\n",
       "      <td>0.240683</td>\n",
       "      <td>0.759317</td>\n",
       "      <td>0</td>\n",
       "      <td>1</td>\n",
       "    </tr>\n",
       "    <tr>\n",
       "      <th>2914</th>\n",
       "      <td>2914</td>\n",
       "      <td>Autism0088</td>\n",
       "      <td>C4</td>\n",
       "      <td>1</td>\n",
       "      <td>0.108347</td>\n",
       "      <td>0.891653</td>\n",
       "      <td>1</td>\n",
       "      <td>1</td>\n",
       "    </tr>\n",
       "  </tbody>\n",
       "</table>\n",
       "<p>2307 rows × 8 columns</p>\n",
       "</div>"
      ],
      "text/plain": [
       "      Unnamed: 0 Participant Camera  Segment    Prob 0    Prob 1  GT  Pred\n",
       "1              1  Autism0102     C1       23  0.533965  0.466035   0     0\n",
       "2              2  Autism0094     C2        2  0.665587  0.334413   0     0\n",
       "3              3  Autism0005     C2       17  0.771069  0.228930   0     0\n",
       "4              4  Autism0100     C1        7  0.178666  0.821334   1     1\n",
       "5              5  Autism0012     C2        9  0.997949  0.002051   0     0\n",
       "...          ...         ...    ...      ...       ...       ...  ..   ...\n",
       "2909        2909  Autism0024     C2        3  0.071503  0.928497   1     1\n",
       "2910        2910  Autism0104     C3        7  0.447505  0.552495   1     1\n",
       "2912        2912  Autism0019     C2        2  0.931752  0.068248   0     0\n",
       "2913        2913  Autism0080     C3        2  0.240683  0.759317   0     1\n",
       "2914        2914  Autism0088     C4        1  0.108347  0.891653   1     1\n",
       "\n",
       "[2307 rows x 8 columns]"
      ]
     },
     "execution_count": 14,
     "metadata": {},
     "output_type": "execute_result"
    }
   ],
   "source": [
    "results_table_single_rgb_cc = results_table_single_rgb[results_table_single_rgb[\"Participant\"].str.contains('Control')]\n",
    "results_table_single_rgb_cc\n",
    "results_table_single_rgb_asd = results_table_single_rgb[results_table_single_rgb[\"Participant\"].str.contains('Autism')]\n",
    "results_table_single_rgb_asd\n",
    "\n",
    "results_table_single_flow_cc = results_table_single_flow[results_table_single_flow[\"Participant\"].str.contains('Control')]\n",
    "results_table_single_flow_cc\n",
    "results_table_single_flow_asd = results_table_single_flow[results_table_single_flow[\"Participant\"].str.contains('Autism')]\n",
    "results_table_single_flow_asd\n",
    "\n",
    "results_table_single_fusion_cc = results_table_single_fusion[results_table_single_fusion[\"Participant\"].str.contains('Control')]\n",
    "results_table_single_fusion_cc\n",
    "results_table_single_fusion_asd = results_table_single_fusion[results_table_single_fusion[\"Participant\"].str.contains('Autism')]\n",
    "results_table_single_fusion_asd"
   ]
  },
  {
   "cell_type": "code",
   "execution_count": 15,
   "id": "c7c417b2",
   "metadata": {},
   "outputs": [
    {
     "name": "stdout",
     "output_type": "stream",
     "text": [
      "0.8624356775300172\n",
      "0.8006861063464837\n",
      "0.8895368782161235\n"
     ]
    }
   ],
   "source": [
    "from sklearn.metrics import accuracy_score\n",
    "y_true_single_rgb = results_table_single_rgb[\"GT\"]\n",
    "y_pred_single_rgb = results_table_single_rgb[\"Pred\"]\n",
    "print(accuracy_score(y_true_single_rgb, y_pred_single_rgb))\n",
    "\n",
    "y_true_single_flow = results_table_single_flow[\"GT\"]\n",
    "y_pred_single_flow = results_table_single_flow[\"Pred\"]\n",
    "print(accuracy_score(y_true_single_flow, y_pred_single_flow))\n",
    "\n",
    "y_true_single_fusion = results_table_single_fusion[\"GT\"]\n",
    "y_pred_single_fusion = results_table_single_fusion[\"Pred\"]\n",
    "print(accuracy_score(y_true_single_fusion, y_pred_single_fusion))"
   ]
  },
  {
   "cell_type": "code",
   "execution_count": 16,
   "id": "9b9eef92",
   "metadata": {},
   "outputs": [
    {
     "name": "stdout",
     "output_type": "stream",
     "text": [
      "0.850328947368421\n",
      "0.8656263545730386\n",
      "0.8569078947368421\n",
      "0.7858690940615518\n",
      "0.8963815789473685\n",
      "0.8877329865626354\n"
     ]
    }
   ],
   "source": [
    "from sklearn.metrics import accuracy_score\n",
    "y_true_single_rgb_cc = results_table_single_rgb_cc[\"GT\"]\n",
    "y_pred_single_rgb_cc = results_table_single_rgb_cc[\"Pred\"]\n",
    "print(accuracy_score(y_true_single_rgb_cc, y_pred_single_rgb_cc))\n",
    "y_true_single_rgb_asd = results_table_single_rgb_asd[\"GT\"]\n",
    "y_pred_single_rgb_asd = results_table_single_rgb_asd[\"Pred\"]\n",
    "print(accuracy_score(y_true_single_rgb_asd, y_pred_single_rgb_asd))\n",
    "\n",
    "y_true_single_flow_cc = results_table_single_flow_cc[\"GT\"]\n",
    "y_pred_single_flow_cc = results_table_single_flow_cc[\"Pred\"]\n",
    "print(accuracy_score(y_true_single_flow_cc, y_pred_single_flow_cc))\n",
    "y_true_single_flow_asd = results_table_single_flow_asd[\"GT\"]\n",
    "y_pred_single_flow_asd = results_table_single_flow_asd[\"Pred\"]\n",
    "print(accuracy_score(y_true_single_flow_asd, y_pred_single_flow_asd))\n",
    "\n",
    "y_true_single_fusion_cc = results_table_single_fusion_cc[\"GT\"]\n",
    "y_pred_single_fusion_cc = results_table_single_fusion_cc[\"Pred\"]\n",
    "print(accuracy_score(y_true_single_fusion_cc, y_pred_single_fusion_cc))\n",
    "y_true_single_fusion_asd = results_table_single_fusion_asd[\"GT\"]\n",
    "y_pred_single_fusion_asd = results_table_single_fusion_asd[\"Pred\"]\n",
    "print(accuracy_score(y_true_single_fusion_asd, y_pred_single_fusion_asd))"
   ]
  },
  {
   "cell_type": "code",
   "execution_count": 17,
   "id": "6239f76e",
   "metadata": {},
   "outputs": [
    {
     "name": "stdout",
     "output_type": "stream",
     "text": [
      "{'0': {'precision': 0.8801004394224733, 'recall': 0.869727047146402, 'f1-score': 0.8748829953198128, 'support': 1612}, '1': {'precision': 0.8411497730711044, 'recall': 0.8534151957022257, 'f1-score': 0.8472380952380952, 'support': 1303}, 'accuracy': 0.8624356775300172, 'macro avg': {'precision': 0.8606251062467889, 'recall': 0.8615711214243138, 'f1-score': 0.861060545278954, 'support': 2915}, 'weighted avg': {'precision': 0.8626895583741598, 'recall': 0.8624356775300172, 'f1-score': 0.8625257724016384, 'support': 2915}}\n",
      "{'0': {'precision': 0.8133738601823708, 'recall': 0.8300248138957816, 'f1-score': 0.8216149831132945, 'support': 1612}, '1': {'precision': 0.784251968503937, 'recall': 0.7643898695318496, 'f1-score': 0.7741935483870969, 'support': 1303}, 'accuracy': 0.8006861063464837, 'macro avg': {'precision': 0.7988129143431539, 'recall': 0.7972073417138157, 'f1-score': 0.7979042657501957, 'support': 2915}, 'weighted avg': {'precision': 0.8003564245538977, 'recall': 0.8006861063464837, 'f1-score': 0.8004176831310524, 'support': 2915}}\n",
      "{'0': {'precision': 0.8976572133168927, 'recall': 0.9032258064516129, 'f1-score': 0.9004329004329004, 'support': 1612}, '1': {'precision': 0.8793503480278422, 'recall': 0.8726016884113584, 'f1-score': 0.8759630200308165, 'support': 1303}, 'accuracy': 0.8895368782161235, 'macro avg': {'precision': 0.8885037806723675, 'recall': 0.8879137474314857, 'f1-score': 0.8881979602318584, 'support': 2915}, 'weighted avg': {'precision': 0.8894740759338283, 'recall': 0.8895368782161235, 'f1-score': 0.8894949058655196, 'support': 2915}}\n"
     ]
    }
   ],
   "source": [
    "from sklearn import metrics\n",
    "\n",
    "report_single_rgb = metrics.classification_report(y_true_single_rgb,y_pred_single_rgb,digits=3,output_dict=True)\n",
    "print(report_single_rgb)\n",
    "\n",
    "report_single_flow = metrics.classification_report(y_true_single_flow, y_pred_single_flow,digits=3,output_dict=True)\n",
    "print(report_single_flow)\n",
    "\n",
    "report_single_fusion = metrics.classification_report(y_true_single_fusion, y_pred_single_fusion,digits=3,output_dict=True)\n",
    "print(report_single_fusion)"
   ]
  },
  {
   "cell_type": "code",
   "execution_count": 18,
   "id": "8304c11a",
   "metadata": {},
   "outputs": [
    {
     "name": "stdout",
     "output_type": "stream",
     "text": [
      "{'0': {'precision': 0.9116809116809117, 'recall': 0.8421052631578947, 'f1-score': 0.8755129958960328, 'support': 380}, '1': {'precision': 0.7665369649805448, 'recall': 0.8640350877192983, 'f1-score': 0.8123711340206186, 'support': 228}, 'accuracy': 0.850328947368421, 'macro avg': {'precision': 0.8391089383307282, 'recall': 0.8530701754385965, 'f1-score': 0.8439420649583257, 'support': 608}, 'weighted avg': {'precision': 0.8572519316682741, 'recall': 0.850328947368421, 'f1-score': 0.8518347976927526, 'support': 608}}\n",
      "{'0': {'precision': 0.8711755233494364, 'recall': 0.8782467532467533, 'f1-score': 0.8746968472109944, 'support': 1232}, '1': {'precision': 0.8591549295774648, 'recall': 0.8511627906976744, 'f1-score': 0.8551401869158879, 'support': 1075}, 'accuracy': 0.8656263545730386, 'macro avg': {'precision': 0.8651652264634506, 'recall': 0.8647047719722138, 'f1-score': 0.8649185170634411, 'support': 2307}, 'weighted avg': {'precision': 0.8655742497018987, 'recall': 0.8656263545730386, 'f1-score': 0.8655839690934221, 'support': 2307}}\n",
      "{'0': {'precision': 0.9013698630136986, 'recall': 0.8657894736842106, 'f1-score': 0.8832214765100672, 'support': 380}, '1': {'precision': 0.7901234567901234, 'recall': 0.8421052631578947, 'f1-score': 0.8152866242038217, 'support': 228}, 'accuracy': 0.8569078947368421, 'macro avg': {'precision': 0.845746659901911, 'recall': 0.8539473684210526, 'f1-score': 0.8492540503569445, 'support': 608}, 'weighted avg': {'precision': 0.859652460679858, 'recall': 0.8569078947368421, 'f1-score': 0.8577459068952251, 'support': 608}}\n",
      "{'0': {'precision': 0.78828125, 'recall': 0.8189935064935064, 'f1-score': 0.803343949044586, 'support': 1232}, '1': {'precision': 0.7828627069133398, 'recall': 0.747906976744186, 'f1-score': 0.7649857278782112, 'support': 1075}, 'accuracy': 0.7858690940615518, 'macro avg': {'precision': 0.7855719784566699, 'recall': 0.7834502416188462, 'f1-score': 0.7841648384613986, 'support': 2307}, 'weighted avg': {'precision': 0.7857563545434939, 'recall': 0.7858690940615518, 'f1-score': 0.7854700488478573, 'support': 2307}}\n",
      "{'0': {'precision': 0.9439775910364145, 'recall': 0.8868421052631579, 'f1-score': 0.9145183175033921, 'support': 380}, '1': {'precision': 0.8286852589641435, 'recall': 0.9122807017543859, 'f1-score': 0.8684759916492694, 'support': 228}, 'accuracy': 0.8963815789473685, 'macro avg': {'precision': 0.886331425000279, 'recall': 0.8995614035087719, 'f1-score': 0.8914971545763307, 'support': 608}, 'weighted avg': {'precision': 0.900742966509313, 'recall': 0.8963815789473685, 'f1-score': 0.897252445308096, 'support': 608}}\n",
      "{'0': {'precision': 0.8845849802371542, 'recall': 0.9082792207792207, 'f1-score': 0.896275530636764, 'support': 1232}, '1': {'precision': 0.8915547024952015, 'recall': 0.8641860465116279, 'f1-score': 0.8776570618800189, 'support': 1075}, 'accuracy': 0.8877329865626354, 'macro avg': {'precision': 0.8880698413661778, 'recall': 0.8862326336454243, 'f1-score': 0.8869662962583915, 'support': 2307}, 'weighted avg': {'precision': 0.8878326835000068, 'recall': 0.8877329865626354, 'f1-score': 0.8875998245624246, 'support': 2307}}\n"
     ]
    }
   ],
   "source": [
    "from sklearn import metrics\n",
    "\n",
    "report_single_rgb_cc = metrics.classification_report(y_true_single_rgb_cc,y_pred_single_rgb_cc,digits=3,output_dict=True)\n",
    "print(report_single_rgb_cc)\n",
    "report_single_rgb_asd = metrics.classification_report(y_true_single_rgb_asd,y_pred_single_rgb_asd,digits=3,output_dict=True)\n",
    "print(report_single_rgb_asd)\n",
    "\n",
    "report_single_flow_cc = metrics.classification_report(y_true_single_flow_cc, y_pred_single_flow_cc,digits=3,output_dict=True)\n",
    "print(report_single_flow_cc)\n",
    "report_single_flow_asd = metrics.classification_report(y_true_single_flow_asd, y_pred_single_flow_asd,digits=3,output_dict=True)\n",
    "print(report_single_flow_asd)\n",
    "\n",
    "report_single_fusion_cc = metrics.classification_report(y_true_single_fusion_cc, y_pred_single_fusion_cc,digits=3,output_dict=True)\n",
    "print(report_single_fusion_cc)\n",
    "report_single_fusion_asd = metrics.classification_report(y_true_single_fusion_asd, y_pred_single_fusion_asd,digits=3,output_dict=True)\n",
    "print(report_single_fusion_asd)"
   ]
  },
  {
   "cell_type": "markdown",
   "id": "f331914a",
   "metadata": {},
   "source": [
    "# Multiview Performance"
   ]
  },
  {
   "cell_type": "markdown",
   "id": "8ade6a40",
   "metadata": {},
   "source": [
    "## Multiview RGB"
   ]
  },
  {
   "cell_type": "code",
   "execution_count": 19,
   "id": "1a0dc931",
   "metadata": {},
   "outputs": [],
   "source": [
    "import pandas as pd\n",
    "\n",
    "multiview_rgb = pd.read_excel (os.path.join(data_dir,\"results\", f\"baseline_result_multiview_RGB_channel_split_{split_num}.xlsx\"))\n",
    "multiview_rgb = multiview_rgb.fillna(method='ffill', axis=0)\n",
    "\n",
    "results_table_multiview_rgb =multiview_rgb[[\"Pred\",\"GT\"]]"
   ]
  },
  {
   "cell_type": "code",
   "execution_count": 20,
   "id": "c6e2f316",
   "metadata": {},
   "outputs": [
    {
     "data": {
      "text/html": [
       "<div>\n",
       "<style scoped>\n",
       "    .dataframe tbody tr th:only-of-type {\n",
       "        vertical-align: middle;\n",
       "    }\n",
       "\n",
       "    .dataframe tbody tr th {\n",
       "        vertical-align: top;\n",
       "    }\n",
       "\n",
       "    .dataframe thead th {\n",
       "        text-align: right;\n",
       "    }\n",
       "</style>\n",
       "<table border=\"1\" class=\"dataframe\">\n",
       "  <thead>\n",
       "    <tr style=\"text-align: right;\">\n",
       "      <th></th>\n",
       "      <th>Participant</th>\n",
       "      <th>Segment</th>\n",
       "      <th>GT</th>\n",
       "      <th>Camera</th>\n",
       "      <th>Prob 0</th>\n",
       "      <th>Prob 1</th>\n",
       "      <th>Pred</th>\n",
       "    </tr>\n",
       "  </thead>\n",
       "  <tbody>\n",
       "    <tr>\n",
       "      <th>0</th>\n",
       "      <td>Autism0001</td>\n",
       "      <td>1.0</td>\n",
       "      <td>0</td>\n",
       "      <td>['C1', 'C3', 'C2', 'C4']</td>\n",
       "      <td>0.992223</td>\n",
       "      <td>0.007777</td>\n",
       "      <td>0</td>\n",
       "    </tr>\n",
       "    <tr>\n",
       "      <th>1</th>\n",
       "      <td>Autism0001</td>\n",
       "      <td>1.0</td>\n",
       "      <td>1</td>\n",
       "      <td>['C4', 'C3', 'C1', 'C2']</td>\n",
       "      <td>0.238791</td>\n",
       "      <td>0.761209</td>\n",
       "      <td>1</td>\n",
       "    </tr>\n",
       "    <tr>\n",
       "      <th>2</th>\n",
       "      <td>Autism0001</td>\n",
       "      <td>10.0</td>\n",
       "      <td>1</td>\n",
       "      <td>['C2', 'C1', 'C4', 'C3']</td>\n",
       "      <td>0.094819</td>\n",
       "      <td>0.905181</td>\n",
       "      <td>1</td>\n",
       "    </tr>\n",
       "    <tr>\n",
       "      <th>3</th>\n",
       "      <td>Autism0001</td>\n",
       "      <td>11.0</td>\n",
       "      <td>0</td>\n",
       "      <td>['C3', 'C2', 'C1', 'C4']</td>\n",
       "      <td>0.927710</td>\n",
       "      <td>0.072290</td>\n",
       "      <td>0</td>\n",
       "    </tr>\n",
       "    <tr>\n",
       "      <th>4</th>\n",
       "      <td>Autism0001</td>\n",
       "      <td>12.0</td>\n",
       "      <td>0</td>\n",
       "      <td>['C3', 'C4', 'C1', 'C2']</td>\n",
       "      <td>0.538160</td>\n",
       "      <td>0.461840</td>\n",
       "      <td>0</td>\n",
       "    </tr>\n",
       "    <tr>\n",
       "      <th>...</th>\n",
       "      <td>...</td>\n",
       "      <td>...</td>\n",
       "      <td>...</td>\n",
       "      <td>...</td>\n",
       "      <td>...</td>\n",
       "      <td>...</td>\n",
       "      <td>...</td>\n",
       "    </tr>\n",
       "    <tr>\n",
       "      <th>585</th>\n",
       "      <td>Autism0107</td>\n",
       "      <td>2.0</td>\n",
       "      <td>0</td>\n",
       "      <td>['C3', 'C4', 'C1', 'C2']</td>\n",
       "      <td>0.643675</td>\n",
       "      <td>0.356325</td>\n",
       "      <td>0</td>\n",
       "    </tr>\n",
       "    <tr>\n",
       "      <th>586</th>\n",
       "      <td>Autism0107</td>\n",
       "      <td>3.0</td>\n",
       "      <td>0</td>\n",
       "      <td>['C3', 'C1', 'C2', 'C4']</td>\n",
       "      <td>0.845146</td>\n",
       "      <td>0.154854</td>\n",
       "      <td>0</td>\n",
       "    </tr>\n",
       "    <tr>\n",
       "      <th>587</th>\n",
       "      <td>Autism0107</td>\n",
       "      <td>3.0</td>\n",
       "      <td>1</td>\n",
       "      <td>['C4', 'C3', 'C2', 'C1']</td>\n",
       "      <td>0.018285</td>\n",
       "      <td>0.981715</td>\n",
       "      <td>1</td>\n",
       "    </tr>\n",
       "    <tr>\n",
       "      <th>588</th>\n",
       "      <td>Autism0107</td>\n",
       "      <td>4.0</td>\n",
       "      <td>0</td>\n",
       "      <td>['C1', 'C3', 'C4', 'C2']</td>\n",
       "      <td>0.939390</td>\n",
       "      <td>0.060610</td>\n",
       "      <td>0</td>\n",
       "    </tr>\n",
       "    <tr>\n",
       "      <th>589</th>\n",
       "      <td>Autism0108</td>\n",
       "      <td>1.0</td>\n",
       "      <td>0</td>\n",
       "      <td>['C4']</td>\n",
       "      <td>0.999988</td>\n",
       "      <td>0.000012</td>\n",
       "      <td>0</td>\n",
       "    </tr>\n",
       "  </tbody>\n",
       "</table>\n",
       "<p>590 rows × 7 columns</p>\n",
       "</div>"
      ],
      "text/plain": [
       "    Participant  Segment  GT                    Camera    Prob 0    Prob 1  \\\n",
       "0    Autism0001      1.0   0  ['C1', 'C3', 'C2', 'C4']  0.992223  0.007777   \n",
       "1    Autism0001      1.0   1  ['C4', 'C3', 'C1', 'C2']  0.238791  0.761209   \n",
       "2    Autism0001     10.0   1  ['C2', 'C1', 'C4', 'C3']  0.094819  0.905181   \n",
       "3    Autism0001     11.0   0  ['C3', 'C2', 'C1', 'C4']  0.927710  0.072290   \n",
       "4    Autism0001     12.0   0  ['C3', 'C4', 'C1', 'C2']  0.538160  0.461840   \n",
       "..          ...      ...  ..                       ...       ...       ...   \n",
       "585  Autism0107      2.0   0  ['C3', 'C4', 'C1', 'C2']  0.643675  0.356325   \n",
       "586  Autism0107      3.0   0  ['C3', 'C1', 'C2', 'C4']  0.845146  0.154854   \n",
       "587  Autism0107      3.0   1  ['C4', 'C3', 'C2', 'C1']  0.018285  0.981715   \n",
       "588  Autism0107      4.0   0  ['C1', 'C3', 'C4', 'C2']  0.939390  0.060610   \n",
       "589  Autism0108      1.0   0                    ['C4']  0.999988  0.000012   \n",
       "\n",
       "     Pred  \n",
       "0       0  \n",
       "1       1  \n",
       "2       1  \n",
       "3       0  \n",
       "4       0  \n",
       "..    ...  \n",
       "585     0  \n",
       "586     0  \n",
       "587     1  \n",
       "588     0  \n",
       "589     0  \n",
       "\n",
       "[590 rows x 7 columns]"
      ]
     },
     "execution_count": 20,
     "metadata": {},
     "output_type": "execute_result"
    }
   ],
   "source": [
    "results_table_multiview_rgb_cc = multiview_rgb[multiview_rgb[\"Participant\"].str.contains('Control')]\n",
    "results_table_multiview_rgb_cc\n",
    "results_table_multiview_rgb_asd = multiview_rgb[multiview_rgb[\"Participant\"].str.contains('Autism')]\n",
    "results_table_multiview_rgb_asd"
   ]
  },
  {
   "cell_type": "code",
   "execution_count": 21,
   "id": "1a1b879d",
   "metadata": {},
   "outputs": [
    {
     "data": {
      "text/plain": [
       "0.9339622641509434"
      ]
     },
     "execution_count": 21,
     "metadata": {},
     "output_type": "execute_result"
    }
   ],
   "source": [
    "from sklearn.metrics import accuracy_score\n",
    "y_true_multiview_rgb = results_table_multiview_rgb[\"GT\"]\n",
    "y_pred_multiview_rgb = results_table_multiview_rgb[\"Pred\"]\n",
    "accuracy_score(y_true_multiview_rgb, y_pred_multiview_rgb)"
   ]
  },
  {
   "cell_type": "code",
   "execution_count": 22,
   "id": "24485402",
   "metadata": {},
   "outputs": [
    {
     "data": {
      "text/plain": [
       "0.9078947368421053"
      ]
     },
     "execution_count": 22,
     "metadata": {},
     "output_type": "execute_result"
    }
   ],
   "source": [
    "from sklearn.metrics import accuracy_score\n",
    "y_true_multiview_rgb_cc = results_table_multiview_rgb_cc[\"GT\"]\n",
    "y_pred_multiview_rgb_cc = results_table_multiview_rgb_cc[\"Pred\"]\n",
    "accuracy_score(y_true_multiview_rgb_cc, y_pred_multiview_rgb_cc)"
   ]
  },
  {
   "cell_type": "code",
   "execution_count": 23,
   "id": "55f2f6a6",
   "metadata": {},
   "outputs": [
    {
     "data": {
      "text/plain": [
       "0.940677966101695"
      ]
     },
     "execution_count": 23,
     "metadata": {},
     "output_type": "execute_result"
    }
   ],
   "source": [
    "y_true_multiview_rgb_asd = results_table_multiview_rgb_asd[\"GT\"]\n",
    "y_pred_multiview_rgb_asd = results_table_multiview_rgb_asd[\"Pred\"]\n",
    "accuracy_score(y_true_multiview_rgb_asd, y_pred_multiview_rgb_asd)"
   ]
  },
  {
   "cell_type": "code",
   "execution_count": 24,
   "id": "5dee9d20",
   "metadata": {},
   "outputs": [
    {
     "data": {
      "text/plain": [
       "array([1.        , 0.93693694, 0.        ])"
      ]
     },
     "execution_count": 24,
     "metadata": {},
     "output_type": "execute_result"
    }
   ],
   "source": [
    "from sklearn.metrics import precision_recall_curve\n",
    "y_prob1_multiview_rgb= multiview_rgb[\"Prob 1\"]\n",
    "precision, recall, thresholds = precision_recall_curve(y_true_multiview_rgb, y_pred_multiview_rgb)\n",
    "recall"
   ]
  },
  {
   "cell_type": "code",
   "execution_count": 25,
   "id": "91e9b9ee",
   "metadata": {},
   "outputs": [
    {
     "name": "stdout",
     "output_type": "stream",
     "text": [
      "{'0': {'precision': 0.9477611940298507, 'recall': 0.9315403422982885, 'f1-score': 0.9395807644882861, 'support': 409}, '1': {'precision': 0.9176470588235294, 'recall': 0.9369369369369369, 'f1-score': 0.9271916790490341, 'support': 333}, 'accuracy': 0.9339622641509434, 'macro avg': {'precision': 0.93270412642669, 'recall': 0.9342386396176128, 'f1-score': 0.9333862217686602, 'support': 742}, 'weighted avg': {'precision': 0.9342463597660974, 'recall': 0.9339622641509434, 'f1-score': 0.934020703233204, 'support': 742}}\n",
      "{'0': {'precision': 0.9550561797752809, 'recall': 0.8947368421052632, 'f1-score': 0.9239130434782609, 'support': 95}, '1': {'precision': 0.8412698412698413, 'recall': 0.9298245614035088, 'f1-score': 0.8833333333333334, 'support': 57}, 'accuracy': 0.9078947368421053, 'macro avg': {'precision': 0.8981630105225611, 'recall': 0.9122807017543859, 'f1-score': 0.9036231884057971, 'support': 152}, 'weighted avg': {'precision': 0.9123863028357411, 'recall': 0.9078947368421053, 'f1-score': 0.908695652173913, 'support': 152}}\n",
      "{'0': {'precision': 0.9456869009584664, 'recall': 0.9426751592356688, 'f1-score': 0.9441786283891547, 'support': 314}, '1': {'precision': 0.9350180505415162, 'recall': 0.9384057971014492, 'f1-score': 0.9367088607594937, 'support': 276}, 'accuracy': 0.940677966101695, 'macro avg': {'precision': 0.9403524757499913, 'recall': 0.940540478168559, 'f1-score': 0.9404437445743241, 'support': 590}, 'weighted avg': {'precision': 0.9406960488990117, 'recall': 0.940677966101695, 'f1-score': 0.9406842964132454, 'support': 590}}\n"
     ]
    }
   ],
   "source": [
    "from sklearn import metrics\n",
    "\n",
    "report_multiview_rgb = metrics.classification_report(y_true_multiview_rgb,y_pred_multiview_rgb,digits=3,output_dict=True)\n",
    "print(report_multiview_rgb)\n",
    "report_multiview_rgb_cc = metrics.classification_report(y_true_multiview_rgb_cc,y_pred_multiview_rgb_cc,digits=3,output_dict=True)\n",
    "print(report_multiview_rgb_cc)\n",
    "report_multiview_rgb_asd = metrics.classification_report(y_true_multiview_rgb_asd,y_pred_multiview_rgb_asd,digits=3,output_dict=True)\n",
    "print(report_multiview_rgb_asd)\n"
   ]
  },
  {
   "cell_type": "markdown",
   "id": "4c5722b1",
   "metadata": {},
   "source": [
    "## Multiview Flow"
   ]
  },
  {
   "cell_type": "code",
   "execution_count": 26,
   "id": "97fc8390",
   "metadata": {},
   "outputs": [
    {
     "data": {
      "text/html": [
       "<div>\n",
       "<style scoped>\n",
       "    .dataframe tbody tr th:only-of-type {\n",
       "        vertical-align: middle;\n",
       "    }\n",
       "\n",
       "    .dataframe tbody tr th {\n",
       "        vertical-align: top;\n",
       "    }\n",
       "\n",
       "    .dataframe thead th {\n",
       "        text-align: right;\n",
       "    }\n",
       "</style>\n",
       "<table border=\"1\" class=\"dataframe\">\n",
       "  <thead>\n",
       "    <tr style=\"text-align: right;\">\n",
       "      <th></th>\n",
       "      <th>Pred</th>\n",
       "      <th>GT</th>\n",
       "    </tr>\n",
       "  </thead>\n",
       "  <tbody>\n",
       "    <tr>\n",
       "      <th>0</th>\n",
       "      <td>0</td>\n",
       "      <td>0</td>\n",
       "    </tr>\n",
       "    <tr>\n",
       "      <th>1</th>\n",
       "      <td>1</td>\n",
       "      <td>1</td>\n",
       "    </tr>\n",
       "    <tr>\n",
       "      <th>2</th>\n",
       "      <td>1</td>\n",
       "      <td>1</td>\n",
       "    </tr>\n",
       "    <tr>\n",
       "      <th>3</th>\n",
       "      <td>0</td>\n",
       "      <td>0</td>\n",
       "    </tr>\n",
       "    <tr>\n",
       "      <th>4</th>\n",
       "      <td>0</td>\n",
       "      <td>0</td>\n",
       "    </tr>\n",
       "    <tr>\n",
       "      <th>...</th>\n",
       "      <td>...</td>\n",
       "      <td>...</td>\n",
       "    </tr>\n",
       "    <tr>\n",
       "      <th>737</th>\n",
       "      <td>0</td>\n",
       "      <td>0</td>\n",
       "    </tr>\n",
       "    <tr>\n",
       "      <th>738</th>\n",
       "      <td>0</td>\n",
       "      <td>0</td>\n",
       "    </tr>\n",
       "    <tr>\n",
       "      <th>739</th>\n",
       "      <td>0</td>\n",
       "      <td>0</td>\n",
       "    </tr>\n",
       "    <tr>\n",
       "      <th>740</th>\n",
       "      <td>0</td>\n",
       "      <td>0</td>\n",
       "    </tr>\n",
       "    <tr>\n",
       "      <th>741</th>\n",
       "      <td>0</td>\n",
       "      <td>0</td>\n",
       "    </tr>\n",
       "  </tbody>\n",
       "</table>\n",
       "<p>742 rows × 2 columns</p>\n",
       "</div>"
      ],
      "text/plain": [
       "     Pred  GT\n",
       "0       0   0\n",
       "1       1   1\n",
       "2       1   1\n",
       "3       0   0\n",
       "4       0   0\n",
       "..    ...  ..\n",
       "737     0   0\n",
       "738     0   0\n",
       "739     0   0\n",
       "740     0   0\n",
       "741     0   0\n",
       "\n",
       "[742 rows x 2 columns]"
      ]
     },
     "execution_count": 26,
     "metadata": {},
     "output_type": "execute_result"
    }
   ],
   "source": [
    "multiview_flow = pd.read_excel (os.path.join(data_dir,\"results\", f\"baseline_result_multiview_Flow_channel_split_{split_num}.xlsx\"))\n",
    "multiview_flow = multiview_flow.fillna(method='ffill', axis=0)\n",
    "\n",
    "results_table_multiview_flow =multiview_flow[[\"Pred\",\"GT\"]]\n",
    "results_table_multiview_flow"
   ]
  },
  {
   "cell_type": "code",
   "execution_count": 27,
   "id": "14b6a30b",
   "metadata": {},
   "outputs": [
    {
     "data": {
      "text/html": [
       "<div>\n",
       "<style scoped>\n",
       "    .dataframe tbody tr th:only-of-type {\n",
       "        vertical-align: middle;\n",
       "    }\n",
       "\n",
       "    .dataframe tbody tr th {\n",
       "        vertical-align: top;\n",
       "    }\n",
       "\n",
       "    .dataframe thead th {\n",
       "        text-align: right;\n",
       "    }\n",
       "</style>\n",
       "<table border=\"1\" class=\"dataframe\">\n",
       "  <thead>\n",
       "    <tr style=\"text-align: right;\">\n",
       "      <th></th>\n",
       "      <th>Participant</th>\n",
       "      <th>Segment</th>\n",
       "      <th>GT</th>\n",
       "      <th>Camera</th>\n",
       "      <th>Prob 0</th>\n",
       "      <th>Prob 1</th>\n",
       "      <th>Pred</th>\n",
       "    </tr>\n",
       "  </thead>\n",
       "  <tbody>\n",
       "    <tr>\n",
       "      <th>0</th>\n",
       "      <td>Autism0001</td>\n",
       "      <td>1.0</td>\n",
       "      <td>0</td>\n",
       "      <td>['C1', 'C3', 'C2', 'C4']</td>\n",
       "      <td>0.998786</td>\n",
       "      <td>0.001214</td>\n",
       "      <td>0</td>\n",
       "    </tr>\n",
       "    <tr>\n",
       "      <th>1</th>\n",
       "      <td>Autism0001</td>\n",
       "      <td>1.0</td>\n",
       "      <td>1</td>\n",
       "      <td>['C4', 'C3', 'C1', 'C2']</td>\n",
       "      <td>0.275927</td>\n",
       "      <td>0.724073</td>\n",
       "      <td>1</td>\n",
       "    </tr>\n",
       "    <tr>\n",
       "      <th>2</th>\n",
       "      <td>Autism0001</td>\n",
       "      <td>10.0</td>\n",
       "      <td>1</td>\n",
       "      <td>['C2', 'C1', 'C4', 'C3']</td>\n",
       "      <td>0.227845</td>\n",
       "      <td>0.772155</td>\n",
       "      <td>1</td>\n",
       "    </tr>\n",
       "    <tr>\n",
       "      <th>3</th>\n",
       "      <td>Autism0001</td>\n",
       "      <td>11.0</td>\n",
       "      <td>0</td>\n",
       "      <td>['C3', 'C2', 'C1', 'C4']</td>\n",
       "      <td>0.848472</td>\n",
       "      <td>0.151528</td>\n",
       "      <td>0</td>\n",
       "    </tr>\n",
       "    <tr>\n",
       "      <th>4</th>\n",
       "      <td>Autism0001</td>\n",
       "      <td>12.0</td>\n",
       "      <td>0</td>\n",
       "      <td>['C3', 'C4', 'C1', 'C2']</td>\n",
       "      <td>0.837121</td>\n",
       "      <td>0.162879</td>\n",
       "      <td>0</td>\n",
       "    </tr>\n",
       "    <tr>\n",
       "      <th>...</th>\n",
       "      <td>...</td>\n",
       "      <td>...</td>\n",
       "      <td>...</td>\n",
       "      <td>...</td>\n",
       "      <td>...</td>\n",
       "      <td>...</td>\n",
       "      <td>...</td>\n",
       "    </tr>\n",
       "    <tr>\n",
       "      <th>585</th>\n",
       "      <td>Autism0107</td>\n",
       "      <td>2.0</td>\n",
       "      <td>0</td>\n",
       "      <td>['C3', 'C4', 'C1', 'C2']</td>\n",
       "      <td>0.155866</td>\n",
       "      <td>0.844134</td>\n",
       "      <td>1</td>\n",
       "    </tr>\n",
       "    <tr>\n",
       "      <th>586</th>\n",
       "      <td>Autism0107</td>\n",
       "      <td>3.0</td>\n",
       "      <td>0</td>\n",
       "      <td>['C3', 'C1', 'C2', 'C4']</td>\n",
       "      <td>0.998875</td>\n",
       "      <td>0.001125</td>\n",
       "      <td>0</td>\n",
       "    </tr>\n",
       "    <tr>\n",
       "      <th>587</th>\n",
       "      <td>Autism0107</td>\n",
       "      <td>3.0</td>\n",
       "      <td>1</td>\n",
       "      <td>['C4', 'C3', 'C2', 'C1']</td>\n",
       "      <td>0.506301</td>\n",
       "      <td>0.493699</td>\n",
       "      <td>0</td>\n",
       "    </tr>\n",
       "    <tr>\n",
       "      <th>588</th>\n",
       "      <td>Autism0107</td>\n",
       "      <td>4.0</td>\n",
       "      <td>0</td>\n",
       "      <td>['C1', 'C3', 'C4', 'C2']</td>\n",
       "      <td>0.921418</td>\n",
       "      <td>0.078582</td>\n",
       "      <td>0</td>\n",
       "    </tr>\n",
       "    <tr>\n",
       "      <th>589</th>\n",
       "      <td>Autism0108</td>\n",
       "      <td>1.0</td>\n",
       "      <td>0</td>\n",
       "      <td>['C4']</td>\n",
       "      <td>0.085731</td>\n",
       "      <td>0.914269</td>\n",
       "      <td>1</td>\n",
       "    </tr>\n",
       "  </tbody>\n",
       "</table>\n",
       "<p>590 rows × 7 columns</p>\n",
       "</div>"
      ],
      "text/plain": [
       "    Participant  Segment  GT                    Camera    Prob 0    Prob 1  \\\n",
       "0    Autism0001      1.0   0  ['C1', 'C3', 'C2', 'C4']  0.998786  0.001214   \n",
       "1    Autism0001      1.0   1  ['C4', 'C3', 'C1', 'C2']  0.275927  0.724073   \n",
       "2    Autism0001     10.0   1  ['C2', 'C1', 'C4', 'C3']  0.227845  0.772155   \n",
       "3    Autism0001     11.0   0  ['C3', 'C2', 'C1', 'C4']  0.848472  0.151528   \n",
       "4    Autism0001     12.0   0  ['C3', 'C4', 'C1', 'C2']  0.837121  0.162879   \n",
       "..          ...      ...  ..                       ...       ...       ...   \n",
       "585  Autism0107      2.0   0  ['C3', 'C4', 'C1', 'C2']  0.155866  0.844134   \n",
       "586  Autism0107      3.0   0  ['C3', 'C1', 'C2', 'C4']  0.998875  0.001125   \n",
       "587  Autism0107      3.0   1  ['C4', 'C3', 'C2', 'C1']  0.506301  0.493699   \n",
       "588  Autism0107      4.0   0  ['C1', 'C3', 'C4', 'C2']  0.921418  0.078582   \n",
       "589  Autism0108      1.0   0                    ['C4']  0.085731  0.914269   \n",
       "\n",
       "     Pred  \n",
       "0       0  \n",
       "1       1  \n",
       "2       1  \n",
       "3       0  \n",
       "4       0  \n",
       "..    ...  \n",
       "585     1  \n",
       "586     0  \n",
       "587     0  \n",
       "588     0  \n",
       "589     1  \n",
       "\n",
       "[590 rows x 7 columns]"
      ]
     },
     "execution_count": 27,
     "metadata": {},
     "output_type": "execute_result"
    }
   ],
   "source": [
    "results_table_multiview_flow_cc = multiview_flow[multiview_flow[\"Participant\"].str.contains('Control')]\n",
    "results_table_multiview_flow_cc\n",
    "results_table_multiview_flow_asd = multiview_flow[multiview_flow[\"Participant\"].str.contains('Autism')]\n",
    "results_table_multiview_flow_asd"
   ]
  },
  {
   "cell_type": "code",
   "execution_count": 28,
   "id": "f158dfa4",
   "metadata": {},
   "outputs": [
    {
     "data": {
      "text/plain": [
       "0.8733153638814016"
      ]
     },
     "execution_count": 28,
     "metadata": {},
     "output_type": "execute_result"
    }
   ],
   "source": [
    "from sklearn.metrics import accuracy_score\n",
    "y_true_multiview_flow = results_table_multiview_flow[\"GT\"]\n",
    "y_pred_multiview_flow = results_table_multiview_flow[\"Pred\"]\n",
    "accuracy_score(y_true_multiview_flow, y_pred_multiview_flow)"
   ]
  },
  {
   "cell_type": "code",
   "execution_count": 29,
   "id": "243ddf39",
   "metadata": {},
   "outputs": [
    {
     "data": {
      "text/plain": [
       "0.9210526315789473"
      ]
     },
     "execution_count": 29,
     "metadata": {},
     "output_type": "execute_result"
    }
   ],
   "source": [
    "from sklearn.metrics import accuracy_score\n",
    "y_true_multiview_flow_cc = results_table_multiview_flow_cc[\"GT\"]\n",
    "y_pred_multiview_flow_cc = results_table_multiview_flow_cc[\"Pred\"]\n",
    "accuracy_score(y_true_multiview_flow_cc, y_pred_multiview_flow_cc)"
   ]
  },
  {
   "cell_type": "code",
   "execution_count": 30,
   "id": "f8bfb941",
   "metadata": {},
   "outputs": [
    {
     "data": {
      "text/plain": [
       "0.8610169491525423"
      ]
     },
     "execution_count": 30,
     "metadata": {},
     "output_type": "execute_result"
    }
   ],
   "source": [
    "from sklearn.metrics import accuracy_score\n",
    "y_true_multiview_flow_asd = results_table_multiview_flow_asd[\"GT\"]\n",
    "y_pred_multiview_flow_asd = results_table_multiview_flow_asd[\"Pred\"]\n",
    "accuracy_score(y_true_multiview_flow_asd, y_pred_multiview_flow_asd)"
   ]
  },
  {
   "cell_type": "code",
   "execution_count": 31,
   "id": "3de6b32e",
   "metadata": {},
   "outputs": [
    {
     "data": {
      "text/plain": [
       "array([1.        , 0.83783784, 0.        ])"
      ]
     },
     "execution_count": 31,
     "metadata": {},
     "output_type": "execute_result"
    }
   ],
   "source": [
    "from sklearn.metrics import precision_recall_curve\n",
    "y_prob1_multiview_flow= multiview_flow[\"Prob 1\"]\n",
    "precision, recall, thresholds = precision_recall_curve(y_true_multiview_flow, y_pred_multiview_flow)\n",
    "recall"
   ]
  },
  {
   "cell_type": "code",
   "execution_count": 32,
   "id": "1de2efef",
   "metadata": {},
   "outputs": [
    {
     "name": "stdout",
     "output_type": "stream",
     "text": [
      "{'0': {'precision': 0.8723404255319149, 'recall': 0.902200488997555, 'f1-score': 0.8870192307692308, 'support': 409}, '1': {'precision': 0.8746081504702194, 'recall': 0.8378378378378378, 'f1-score': 0.8558282208588956, 'support': 333}, 'accuracy': 0.8733153638814016, 'macro avg': {'precision': 0.8734742880010672, 'recall': 0.8700191634176964, 'f1-score': 0.8714237258140632, 'support': 742}, 'weighted avg': {'precision': 0.8733581511443885, 'recall': 0.8733153638814016, 'f1-score': 0.8730211090709267, 'support': 742}}\n",
      "{'0': {'precision': 0.946236559139785, 'recall': 0.9263157894736842, 'f1-score': 0.9361702127659575, 'support': 95}, '1': {'precision': 0.8813559322033898, 'recall': 0.9122807017543859, 'f1-score': 0.8965517241379309, 'support': 57}, 'accuracy': 0.9210526315789473, 'macro avg': {'precision': 0.9137962456715873, 'recall': 0.9192982456140351, 'f1-score': 0.9163609684519443, 'support': 152}, 'weighted avg': {'precision': 0.9219063240386368, 'recall': 0.9210526315789473, 'f1-score': 0.9213132795304476, 'support': 152}}\n",
      "{'0': {'precision': 0.8515151515151516, 'recall': 0.8949044585987261, 'f1-score': 0.8726708074534162, 'support': 314}, '1': {'precision': 0.8730769230769231, 'recall': 0.822463768115942, 'f1-score': 0.8470149253731343, 'support': 276}, 'accuracy': 0.8610169491525423, 'macro avg': {'precision': 0.8622960372960373, 'recall': 0.8586841133573341, 'f1-score': 0.8598428664132752, 'support': 590}, 'weighted avg': {'precision': 0.8616016751609972, 'recall': 0.8610169491525423, 'f1-score': 0.8606690727853521, 'support': 590}}\n"
     ]
    }
   ],
   "source": [
    "from sklearn import metrics\n",
    "\n",
    "report_multiview_flow = metrics.classification_report(y_true_multiview_flow,y_pred_multiview_flow,digits=3,output_dict=True)\n",
    "print(report_multiview_flow)\n",
    "report_multiview_flow_cc = metrics.classification_report(y_true_multiview_flow_cc,y_pred_multiview_flow_cc,digits=3,output_dict=True)\n",
    "print(report_multiview_flow_cc)\n",
    "report_multiview_flow_asd = metrics.classification_report(y_true_multiview_flow_asd,y_pred_multiview_flow_asd,digits=3,output_dict=True)\n",
    "print(report_multiview_flow_asd)\n"
   ]
  },
  {
   "cell_type": "markdown",
   "id": "475e8815",
   "metadata": {},
   "source": [
    "## Multiview Fusion"
   ]
  },
  {
   "cell_type": "code",
   "execution_count": 33,
   "id": "dccf5499",
   "metadata": {},
   "outputs": [
    {
     "data": {
      "text/html": [
       "<div>\n",
       "<style scoped>\n",
       "    .dataframe tbody tr th:only-of-type {\n",
       "        vertical-align: middle;\n",
       "    }\n",
       "\n",
       "    .dataframe tbody tr th {\n",
       "        vertical-align: top;\n",
       "    }\n",
       "\n",
       "    .dataframe thead th {\n",
       "        text-align: right;\n",
       "    }\n",
       "</style>\n",
       "<table border=\"1\" class=\"dataframe\">\n",
       "  <thead>\n",
       "    <tr style=\"text-align: right;\">\n",
       "      <th></th>\n",
       "      <th>Pred</th>\n",
       "      <th>GT</th>\n",
       "    </tr>\n",
       "  </thead>\n",
       "  <tbody>\n",
       "    <tr>\n",
       "      <th>0</th>\n",
       "      <td>0</td>\n",
       "      <td>0</td>\n",
       "    </tr>\n",
       "    <tr>\n",
       "      <th>1</th>\n",
       "      <td>1</td>\n",
       "      <td>1</td>\n",
       "    </tr>\n",
       "    <tr>\n",
       "      <th>2</th>\n",
       "      <td>1</td>\n",
       "      <td>1</td>\n",
       "    </tr>\n",
       "    <tr>\n",
       "      <th>3</th>\n",
       "      <td>0</td>\n",
       "      <td>0</td>\n",
       "    </tr>\n",
       "    <tr>\n",
       "      <th>4</th>\n",
       "      <td>0</td>\n",
       "      <td>0</td>\n",
       "    </tr>\n",
       "    <tr>\n",
       "      <th>...</th>\n",
       "      <td>...</td>\n",
       "      <td>...</td>\n",
       "    </tr>\n",
       "    <tr>\n",
       "      <th>737</th>\n",
       "      <td>0</td>\n",
       "      <td>0</td>\n",
       "    </tr>\n",
       "    <tr>\n",
       "      <th>738</th>\n",
       "      <td>0</td>\n",
       "      <td>0</td>\n",
       "    </tr>\n",
       "    <tr>\n",
       "      <th>739</th>\n",
       "      <td>0</td>\n",
       "      <td>0</td>\n",
       "    </tr>\n",
       "    <tr>\n",
       "      <th>740</th>\n",
       "      <td>0</td>\n",
       "      <td>0</td>\n",
       "    </tr>\n",
       "    <tr>\n",
       "      <th>741</th>\n",
       "      <td>0</td>\n",
       "      <td>0</td>\n",
       "    </tr>\n",
       "  </tbody>\n",
       "</table>\n",
       "<p>742 rows × 2 columns</p>\n",
       "</div>"
      ],
      "text/plain": [
       "     Pred  GT\n",
       "0       0   0\n",
       "1       1   1\n",
       "2       1   1\n",
       "3       0   0\n",
       "4       0   0\n",
       "..    ...  ..\n",
       "737     0   0\n",
       "738     0   0\n",
       "739     0   0\n",
       "740     0   0\n",
       "741     0   0\n",
       "\n",
       "[742 rows x 2 columns]"
      ]
     },
     "execution_count": 33,
     "metadata": {},
     "output_type": "execute_result"
    }
   ],
   "source": [
    "multiview_fusion = pd.read_excel (os.path.join(data_dir,\"results\", f\"baseline_result_multiview_fusion_split_{split_num}.xlsx\"))\n",
    "multiview_fusion = multiview_fusion.fillna(method='ffill', axis=0)\n",
    "\n",
    "results_table_multiview_fusion=multiview_fusion[[\"Pred\",\"GT\"]]\n",
    "results_table_multiview_fusion"
   ]
  },
  {
   "cell_type": "code",
   "execution_count": 34,
   "id": "a2c59d89",
   "metadata": {},
   "outputs": [
    {
     "data": {
      "text/html": [
       "<div>\n",
       "<style scoped>\n",
       "    .dataframe tbody tr th:only-of-type {\n",
       "        vertical-align: middle;\n",
       "    }\n",
       "\n",
       "    .dataframe tbody tr th {\n",
       "        vertical-align: top;\n",
       "    }\n",
       "\n",
       "    .dataframe thead th {\n",
       "        text-align: right;\n",
       "    }\n",
       "</style>\n",
       "<table border=\"1\" class=\"dataframe\">\n",
       "  <thead>\n",
       "    <tr style=\"text-align: right;\">\n",
       "      <th></th>\n",
       "      <th>Participant</th>\n",
       "      <th>Segment</th>\n",
       "      <th>GT</th>\n",
       "      <th>Camera</th>\n",
       "      <th>Prob 0</th>\n",
       "      <th>Prob 1</th>\n",
       "      <th>Pred</th>\n",
       "    </tr>\n",
       "  </thead>\n",
       "  <tbody>\n",
       "    <tr>\n",
       "      <th>0</th>\n",
       "      <td>Autism0001</td>\n",
       "      <td>1.0</td>\n",
       "      <td>0</td>\n",
       "      <td>['C1', 'C3', 'C2', 'C4']</td>\n",
       "      <td>0.995505</td>\n",
       "      <td>0.004495</td>\n",
       "      <td>0</td>\n",
       "    </tr>\n",
       "    <tr>\n",
       "      <th>1</th>\n",
       "      <td>Autism0001</td>\n",
       "      <td>1.0</td>\n",
       "      <td>1</td>\n",
       "      <td>['C4', 'C3', 'C1', 'C2']</td>\n",
       "      <td>0.257359</td>\n",
       "      <td>0.742641</td>\n",
       "      <td>1</td>\n",
       "    </tr>\n",
       "    <tr>\n",
       "      <th>2</th>\n",
       "      <td>Autism0001</td>\n",
       "      <td>10.0</td>\n",
       "      <td>1</td>\n",
       "      <td>['C2', 'C1', 'C4', 'C3']</td>\n",
       "      <td>0.161332</td>\n",
       "      <td>0.838668</td>\n",
       "      <td>1</td>\n",
       "    </tr>\n",
       "    <tr>\n",
       "      <th>3</th>\n",
       "      <td>Autism0001</td>\n",
       "      <td>11.0</td>\n",
       "      <td>0</td>\n",
       "      <td>['C3', 'C2', 'C1', 'C4']</td>\n",
       "      <td>0.888091</td>\n",
       "      <td>0.111909</td>\n",
       "      <td>0</td>\n",
       "    </tr>\n",
       "    <tr>\n",
       "      <th>4</th>\n",
       "      <td>Autism0001</td>\n",
       "      <td>12.0</td>\n",
       "      <td>0</td>\n",
       "      <td>['C3', 'C4', 'C1', 'C2']</td>\n",
       "      <td>0.687640</td>\n",
       "      <td>0.312360</td>\n",
       "      <td>0</td>\n",
       "    </tr>\n",
       "    <tr>\n",
       "      <th>...</th>\n",
       "      <td>...</td>\n",
       "      <td>...</td>\n",
       "      <td>...</td>\n",
       "      <td>...</td>\n",
       "      <td>...</td>\n",
       "      <td>...</td>\n",
       "      <td>...</td>\n",
       "    </tr>\n",
       "    <tr>\n",
       "      <th>585</th>\n",
       "      <td>Autism0107</td>\n",
       "      <td>2.0</td>\n",
       "      <td>0</td>\n",
       "      <td>['C3', 'C4', 'C1', 'C2']</td>\n",
       "      <td>0.399771</td>\n",
       "      <td>0.600229</td>\n",
       "      <td>1</td>\n",
       "    </tr>\n",
       "    <tr>\n",
       "      <th>586</th>\n",
       "      <td>Autism0107</td>\n",
       "      <td>3.0</td>\n",
       "      <td>0</td>\n",
       "      <td>['C3', 'C1', 'C2', 'C4']</td>\n",
       "      <td>0.922010</td>\n",
       "      <td>0.077990</td>\n",
       "      <td>0</td>\n",
       "    </tr>\n",
       "    <tr>\n",
       "      <th>587</th>\n",
       "      <td>Autism0107</td>\n",
       "      <td>3.0</td>\n",
       "      <td>1</td>\n",
       "      <td>['C4', 'C3', 'C2', 'C1']</td>\n",
       "      <td>0.262293</td>\n",
       "      <td>0.737707</td>\n",
       "      <td>1</td>\n",
       "    </tr>\n",
       "    <tr>\n",
       "      <th>588</th>\n",
       "      <td>Autism0107</td>\n",
       "      <td>4.0</td>\n",
       "      <td>0</td>\n",
       "      <td>['C1', 'C3', 'C4', 'C2']</td>\n",
       "      <td>0.930404</td>\n",
       "      <td>0.069596</td>\n",
       "      <td>0</td>\n",
       "    </tr>\n",
       "    <tr>\n",
       "      <th>589</th>\n",
       "      <td>Autism0108</td>\n",
       "      <td>1.0</td>\n",
       "      <td>0</td>\n",
       "      <td>['C4']</td>\n",
       "      <td>0.542859</td>\n",
       "      <td>0.457141</td>\n",
       "      <td>0</td>\n",
       "    </tr>\n",
       "  </tbody>\n",
       "</table>\n",
       "<p>590 rows × 7 columns</p>\n",
       "</div>"
      ],
      "text/plain": [
       "    Participant  Segment  GT                    Camera    Prob 0    Prob 1  \\\n",
       "0    Autism0001      1.0   0  ['C1', 'C3', 'C2', 'C4']  0.995505  0.004495   \n",
       "1    Autism0001      1.0   1  ['C4', 'C3', 'C1', 'C2']  0.257359  0.742641   \n",
       "2    Autism0001     10.0   1  ['C2', 'C1', 'C4', 'C3']  0.161332  0.838668   \n",
       "3    Autism0001     11.0   0  ['C3', 'C2', 'C1', 'C4']  0.888091  0.111909   \n",
       "4    Autism0001     12.0   0  ['C3', 'C4', 'C1', 'C2']  0.687640  0.312360   \n",
       "..          ...      ...  ..                       ...       ...       ...   \n",
       "585  Autism0107      2.0   0  ['C3', 'C4', 'C1', 'C2']  0.399771  0.600229   \n",
       "586  Autism0107      3.0   0  ['C3', 'C1', 'C2', 'C4']  0.922010  0.077990   \n",
       "587  Autism0107      3.0   1  ['C4', 'C3', 'C2', 'C1']  0.262293  0.737707   \n",
       "588  Autism0107      4.0   0  ['C1', 'C3', 'C4', 'C2']  0.930404  0.069596   \n",
       "589  Autism0108      1.0   0                    ['C4']  0.542859  0.457141   \n",
       "\n",
       "     Pred  \n",
       "0       0  \n",
       "1       1  \n",
       "2       1  \n",
       "3       0  \n",
       "4       0  \n",
       "..    ...  \n",
       "585     1  \n",
       "586     0  \n",
       "587     1  \n",
       "588     0  \n",
       "589     0  \n",
       "\n",
       "[590 rows x 7 columns]"
      ]
     },
     "execution_count": 34,
     "metadata": {},
     "output_type": "execute_result"
    }
   ],
   "source": [
    "results_table_multiview_fusion_cc = multiview_fusion[multiview_fusion[\"Participant\"].str.contains('Control')]\n",
    "results_table_multiview_fusion_cc\n",
    "results_table_multiview_fusion_asd = multiview_fusion[multiview_fusion[\"Participant\"].str.contains('Autism')]\n",
    "results_table_multiview_fusion_asd"
   ]
  },
  {
   "cell_type": "code",
   "execution_count": 35,
   "id": "55263108",
   "metadata": {},
   "outputs": [
    {
     "data": {
      "text/plain": [
       "0.9501347708894878"
      ]
     },
     "execution_count": 35,
     "metadata": {},
     "output_type": "execute_result"
    }
   ],
   "source": [
    "from sklearn.metrics import accuracy_score\n",
    "y_true_multiview_fusion = results_table_multiview_fusion[\"GT\"]\n",
    "y_pred_multiview_fusion = results_table_multiview_fusion[\"Pred\"]\n",
    "accuracy_score(y_true_multiview_fusion, y_pred_multiview_fusion)"
   ]
  },
  {
   "cell_type": "code",
   "execution_count": 36,
   "id": "626c65dd",
   "metadata": {},
   "outputs": [
    {
     "data": {
      "text/plain": [
       "0.9736842105263158"
      ]
     },
     "execution_count": 36,
     "metadata": {},
     "output_type": "execute_result"
    }
   ],
   "source": [
    "from sklearn.metrics import accuracy_score\n",
    "y_true_multiview_fusion_cc = results_table_multiview_fusion_cc[\"GT\"]\n",
    "y_pred_multiview_fusion_cc = results_table_multiview_fusion_cc[\"Pred\"]\n",
    "accuracy_score(y_true_multiview_fusion_cc, y_pred_multiview_fusion_cc)"
   ]
  },
  {
   "cell_type": "code",
   "execution_count": 37,
   "id": "bc8f8112",
   "metadata": {},
   "outputs": [
    {
     "data": {
      "text/plain": [
       "0.9440677966101695"
      ]
     },
     "execution_count": 37,
     "metadata": {},
     "output_type": "execute_result"
    }
   ],
   "source": [
    "from sklearn.metrics import accuracy_score\n",
    "y_true_multiview_fusion_asd = results_table_multiview_fusion_asd[\"GT\"]\n",
    "y_pred_multiview_fusion_asd = results_table_multiview_fusion_asd[\"Pred\"]\n",
    "accuracy_score(y_true_multiview_fusion_asd, y_pred_multiview_fusion_asd)"
   ]
  },
  {
   "cell_type": "code",
   "execution_count": 38,
   "id": "6aba7235",
   "metadata": {},
   "outputs": [
    {
     "data": {
      "text/plain": [
       "array([1.        , 0.95195195, 0.        ])"
      ]
     },
     "execution_count": 38,
     "metadata": {},
     "output_type": "execute_result"
    }
   ],
   "source": [
    "from sklearn.metrics import precision_recall_curve\n",
    "y_prob1_multiview_fusion= multiview_fusion[\"Prob 1\"]\n",
    "precision, recall, thresholds = precision_recall_curve(y_true_multiview_fusion, y_pred_multiview_fusion)\n",
    "recall"
   ]
  },
  {
   "cell_type": "code",
   "execution_count": 39,
   "id": "1fd4193a",
   "metadata": {},
   "outputs": [
    {
     "name": "stdout",
     "output_type": "stream",
     "text": [
      "{'0': {'precision': 0.9603960396039604, 'recall': 0.9486552567237164, 'f1-score': 0.9544895448954489, 'support': 409}, '1': {'precision': 0.9378698224852071, 'recall': 0.9519519519519519, 'f1-score': 0.9448584202682564, 'support': 333}, 'accuracy': 0.9501347708894878, 'macro avg': {'precision': 0.9491329310445837, 'recall': 0.9503036043378341, 'f1-score': 0.9496739825818526, 'support': 742}, 'weighted avg': {'precision': 0.9502865648053824, 'recall': 0.9501347708894878, 'f1-score': 0.9501672207703072, 'support': 742}}\n",
      "{'0': {'precision': 1.0, 'recall': 0.9578947368421052, 'f1-score': 0.978494623655914, 'support': 95}, '1': {'precision': 0.9344262295081968, 'recall': 1.0, 'f1-score': 0.9661016949152543, 'support': 57}, 'accuracy': 0.9736842105263158, 'macro avg': {'precision': 0.9672131147540983, 'recall': 0.9789473684210526, 'f1-score': 0.9722981592855842, 'support': 152}, 'weighted avg': {'precision': 0.9754098360655737, 'recall': 0.9736842105263158, 'f1-score': 0.9738472753781666, 'support': 152}}\n",
      "{'0': {'precision': 0.9488817891373802, 'recall': 0.945859872611465, 'f1-score': 0.9473684210526315, 'support': 314}, '1': {'precision': 0.9386281588447654, 'recall': 0.9420289855072463, 'f1-score': 0.9403254972875226, 'support': 276}, 'accuracy': 0.9440677966101695, 'macro avg': {'precision': 0.9437549739910728, 'recall': 0.9439444290593557, 'f1-score': 0.9438469591700771, 'support': 590}, 'weighted avg': {'precision': 0.9440851756445637, 'recall': 0.9440677966101695, 'f1-score': 0.9440737651896314, 'support': 590}}\n"
     ]
    }
   ],
   "source": [
    "from sklearn import metrics\n",
    "\n",
    "report_multiview_fusion = metrics.classification_report(y_true_multiview_fusion,y_pred_multiview_fusion,digits=3,output_dict=True)\n",
    "print(report_multiview_fusion)\n",
    "report_multiview_fusion_cc = metrics.classification_report(y_true_multiview_fusion_cc,y_pred_multiview_fusion_cc,digits=3,output_dict=True)\n",
    "print(report_multiview_fusion_cc)\n",
    "report_multiview_fusion_asd = metrics.classification_report(y_true_multiview_fusion_asd,y_pred_multiview_fusion_asd,digits=3,output_dict=True)\n",
    "print(report_multiview_fusion_asd)\n"
   ]
  },
  {
   "cell_type": "code",
   "execution_count": 40,
   "id": "82b93d35",
   "metadata": {},
   "outputs": [
    {
     "data": {
      "text/plain": [
       "0.9473684210526315"
      ]
     },
     "execution_count": 40,
     "metadata": {},
     "output_type": "execute_result"
    }
   ],
   "source": [
    "report_multiview_fusion_asd[\"0\"][\"f1-score\"]"
   ]
  },
  {
   "cell_type": "markdown",
   "id": "84dbbad1",
   "metadata": {},
   "source": [
    "## Code used in publication - Eye Contact Overall PR Curve"
   ]
  },
  {
   "cell_type": "code",
   "execution_count": 41,
   "id": "b0775593",
   "metadata": {},
   "outputs": [],
   "source": [
    "import numpy as np\n",
    "from numpy import sqrt \n",
    "\n",
    "from sklearn import metrics\n",
    "import matplotlib.pyplot as plt\n",
    "from itertools import cycle\n",
    "import pandas as pd\n",
    "# Function to calculate Precision and Recall\n",
    "\n",
    "def calc_precision_recall(y_true, y_pred):\n",
    "\n",
    "    # Instantiate counters\n",
    "    TP = 0\n",
    "    FP = 0\n",
    "    FN = 0\n",
    "\n",
    "    # Determine whether each prediction is TP, FP, TN, or FN\n",
    "    for i in range(y_true.shape[0]): \n",
    "        if y_true[i]==y_pred[i]==1:\n",
    "           TP += 1\n",
    "        if y_pred[i]==1 and y_true[i]!=y_pred[i]:\n",
    "           FP += 1\n",
    "        if y_pred[i]==0 and y_true[i]!=y_pred[i]:\n",
    "           FN += 1\n",
    "    \n",
    "    # Calculate true positive rate and false positive rate\n",
    "    # Use try-except statements to avoid problem of dividing by 0\n",
    "    try:\n",
    "        precision = TP / (TP + FP)\n",
    "    except:\n",
    "        precision = 10\n",
    "    \n",
    "    try:\n",
    "        recall = TP / (TP + FN)\n",
    "    except:\n",
    "        recall = 10\n",
    "\n",
    "    return precision, recall"
   ]
  },
  {
   "cell_type": "code",
   "execution_count": 42,
   "id": "aece5ab6",
   "metadata": {},
   "outputs": [
    {
     "data": {
      "image/png": "[encoded data removed]",
      "text/plain": [
       "<Figure size 504x360 with 1 Axes>"
      ]
     },
     "metadata": {
      "needs_background": "light"
     },
     "output_type": "display_data"
    }
   ],
   "source": [
    "pal = \"Set2\"\n",
    "f, ax = plt.subplots(figsize=(7, 5))\n",
    "precision_scores = []\n",
    "recall_scores = []\n",
    "ax.tick_params(axis='y', labelsize=20)\n",
    "ax.tick_params(axis='x', labelsize=20)\n",
    "thresholds = [] # to store thresholds not causing division by zero error\n",
    "# Define probability thresholds to use, between 0 and 1\n",
    "probability_thresholds = np.linspace(0, 1, num=200)\n",
    "\n",
    "# Find true positive / false positive rate for each threshold\n",
    "for p in probability_thresholds:            \n",
    "    precision, recall = calc_precision_recall(y_true_single_rgb, prob_single_RGB['Prob 1']>p)\n",
    "    if precision < 10 and recall < 10:\n",
    "    \n",
    "        precision_scores.append(precision)\n",
    "        recall_scores.append(recall)\n",
    "        thresholds.append(p)\n",
    "\n",
    "# fig,ax = plt.subplots(1,1, figsize=(12,4))\n",
    "# fig.tight_layout()\n",
    "ax = plt.plot(recall_scores, precision_scores,label=\"single-view RGB\")\n",
    "ax = plt.axhline(y=0.5, color='grey', linestyle='--')\n",
    "ax = plt.axvline(x=0.5, color='grey', linestyle='--')\n",
    "ax = plt.axhline(y=0.8, color='grey', linestyle='--')\n",
    "ax = plt.axvline(x=0.8, color='grey', linestyle='--')\n",
    "\n",
    "\n",
    "precision_scores = []\n",
    "recall_scores = []\n",
    "\n",
    "thresholds = [] # to store thresholds not causing division by zero error\n",
    "# Find true positive / false positive rate for each threshold\n",
    "for p in probability_thresholds:            \n",
    "    precision, recall = calc_precision_recall(y_true_single_flow, prob_single_FLOW['Prob 1']>p)\n",
    "    if precision < 10 and recall < 10:\n",
    "    \n",
    "        precision_scores.append(precision)\n",
    "        recall_scores.append(recall)\n",
    "        thresholds.append(p)\n",
    "ax = plt.plot(recall_scores, precision_scores,label=\"single-view Flow\")\n",
    "\n",
    "precision_scores = []\n",
    "recall_scores = []\n",
    "thresholds = [] # to store thresholds not causing division by zero error\n",
    "# Find true positive / false positive rate for each threshold\n",
    "for p in probability_thresholds:            \n",
    "    precision, recall = calc_precision_recall(y_true_single_fusion, prob_avg_RGB_FLOW['Prob 1']>p)\n",
    "    if precision < 10 and recall < 10:\n",
    "    \n",
    "        precision_scores.append(precision)\n",
    "        recall_scores.append(recall)\n",
    "        thresholds.append(p)\n",
    "ax = plt.plot(recall_scores, precision_scores,label=\"single-view Fusion\")\n",
    "\n",
    "precision_scores = []\n",
    "recall_scores = []\n",
    "\n",
    "thresholds = [] # to store thresholds not causing division by zero error\n",
    "# Find true positive / false positive rate for each threshold\n",
    "for p in probability_thresholds:            \n",
    "    precision, recall = calc_precision_recall(y_true_multiview_rgb,y_prob1_multiview_rgb>p)\n",
    "    if precision < 10 and recall < 10:\n",
    "    \n",
    "        precision_scores.append(precision)\n",
    "        recall_scores.append(recall)\n",
    "        thresholds.append(p)\n",
    "ax = plt.plot(recall_scores, precision_scores,label=\"multiple-view RGB\")\n",
    "\n",
    "precision_scores = []\n",
    "recall_scores = []\n",
    "\n",
    "thresholds = [] # to store thresholds not causing division by zero error\n",
    "# Find true positive / false positive rate for each threshold\n",
    "for p in probability_thresholds:            \n",
    "    precision, recall = calc_precision_recall(y_true_multiview_flow, y_prob1_multiview_flow>p)\n",
    "    if precision < 10 and recall < 10:\n",
    "    \n",
    "        precision_scores.append(precision)\n",
    "        recall_scores.append(recall)\n",
    "        thresholds.append(p)\n",
    "ax = plt.plot(recall_scores, precision_scores,label=\"multiple-view Flow\")\n",
    "\n",
    "precision_scores = []\n",
    "recall_scores = []\n",
    "thresholds = [] # to store thresholds not causing division by zero error\n",
    "# Find true positive / false positive rate for each threshold\n",
    "for p in probability_thresholds:            \n",
    "    precision, recall = calc_precision_recall(y_true_multiview_fusion,y_prob1_multiview_fusion>p)\n",
    "    if precision < 10 and recall < 10:\n",
    "    \n",
    "        precision_scores.append(precision)\n",
    "        recall_scores.append(recall)\n",
    "        thresholds.append(p)\n",
    "ax = plt.plot(recall_scores, precision_scores,label=\"multiple-view Fusion\")\n",
    "plt.ylim(-0.05,1.05)\n",
    "plt.xlim(-0.05,1.05)\n",
    "\n",
    "plt.xlabel('Recall', fontsize=20,weight=\"bold\")\n",
    "plt.ylabel('Precision', fontsize=20,weight=\"bold\")\n",
    "plt.legend(fontsize=15)\n",
    "plt.savefig(fname=\".//results//MSBR PR curve Eye Contact.png\",dpi=1200)"
   ]
  },
  {
   "cell_type": "code",
   "execution_count": 43,
   "id": "1eed0a12",
   "metadata": {},
   "outputs": [
    {
     "data": {
      "text/plain": [
       "0.978494623655914"
      ]
     },
     "execution_count": 43,
     "metadata": {},
     "output_type": "execute_result"
    }
   ],
   "source": [
    "report_single_rgb_cc[\"0\"][\"f1-score\"]\n",
    "report_single_flow_cc[\"0\"][\"f1-score\"]\n",
    "report_single_fusion_cc[\"0\"][\"f1-score\"]\n",
    "report_multiview_rgb_cc[\"0\"][\"f1-score\"]\n",
    "report_multiview_flow_cc[\"0\"][\"f1-score\"]\n",
    "report_multiview_fusion_cc[\"0\"][\"f1-score\"]"
   ]
  },
  {
   "cell_type": "code",
   "execution_count": 44,
   "id": "d493f9a4",
   "metadata": {},
   "outputs": [
    {
     "data": {
      "text/plain": [
       "0.9473684210526315"
      ]
     },
     "execution_count": 44,
     "metadata": {},
     "output_type": "execute_result"
    }
   ],
   "source": [
    "report_single_rgb_asd[\"0\"][\"f1-score\"]\n",
    "report_single_flow_asd[\"0\"][\"f1-score\"]\n",
    "report_single_fusion_asd[\"0\"][\"f1-score\"]\n",
    "report_multiview_rgb_asd[\"0\"][\"f1-score\"]\n",
    "report_multiview_flow_asd[\"0\"][\"f1-score\"]\n",
    "report_multiview_fusion_asd[\"0\"][\"f1-score\"]"
   ]
  },
  {
   "cell_type": "code",
   "execution_count": 45,
   "id": "f1efa685",
   "metadata": {},
   "outputs": [
    {
     "data": {
      "text/plain": [
       "[87.46968472109944,\n",
       " 80.33439490445859,\n",
       " 89.6275530636764,\n",
       " 94.41786283891547,\n",
       " 87.26708074534162,\n",
       " 94.73684210526315]"
      ]
     },
     "execution_count": 45,
     "metadata": {},
     "output_type": "execute_result"
    }
   ],
   "source": [
    "cc_f1s_other =[report_single_rgb_cc[\"0\"][\"f1-score\"],\n",
    "report_single_flow_cc[\"0\"][\"f1-score\"],\n",
    "report_single_fusion_cc[\"0\"][\"f1-score\"],\n",
    "report_multiview_rgb_cc[\"0\"][\"f1-score\"],\n",
    "report_multiview_flow_cc[\"0\"][\"f1-score\"],\n",
    "report_multiview_fusion_cc[\"0\"][\"f1-score\"]]\n",
    "cc_f1s_other\n",
    "asd_f1s_other =[report_single_rgb_asd[\"0\"][\"f1-score\"],\n",
    "report_single_flow_asd[\"0\"][\"f1-score\"],\n",
    "report_single_fusion_asd[\"0\"][\"f1-score\"],\n",
    "report_multiview_rgb_asd[\"0\"][\"f1-score\"],\n",
    "report_multiview_flow_asd[\"0\"][\"f1-score\"],\n",
    "report_multiview_fusion_asd[\"0\"][\"f1-score\"]]\n",
    "asd_f1s_other=[i * 100 for i in asd_f1s_other]\n",
    "cc_f1s_other =[i * 100 for i in cc_f1s_other]\n",
    "asd_f1s_other"
   ]
  },
  {
   "cell_type": "code",
   "execution_count": 46,
   "id": "14aabf0c",
   "metadata": {},
   "outputs": [
    {
     "data": {
      "text/plain": [
       "[85.51401869158879,\n",
       " 76.49857278782112,\n",
       " 87.76570618800189,\n",
       " 93.67088607594937,\n",
       " 84.70149253731343,\n",
       " 94.03254972875226]"
      ]
     },
     "execution_count": 46,
     "metadata": {},
     "output_type": "execute_result"
    }
   ],
   "source": [
    "cc_f1s_eyecontact =[report_single_rgb_cc[\"1\"][\"f1-score\"],\n",
    "report_single_flow_cc[\"1\"][\"f1-score\"],\n",
    "report_single_fusion_cc[\"1\"][\"f1-score\"],\n",
    "report_multiview_rgb_cc[\"1\"][\"f1-score\"],\n",
    "report_multiview_flow_cc[\"1\"][\"f1-score\"],\n",
    "report_multiview_fusion_cc[\"1\"][\"f1-score\"]]\n",
    "\n",
    "asd_f1s_eyecontact =[report_single_rgb_asd[\"1\"][\"f1-score\"],\n",
    "report_single_flow_asd[\"1\"][\"f1-score\"],\n",
    "report_single_fusion_asd[\"1\"][\"f1-score\"],\n",
    "report_multiview_rgb_asd[\"1\"][\"f1-score\"],\n",
    "report_multiview_flow_asd[\"1\"][\"f1-score\"],\n",
    "report_multiview_fusion_asd[\"1\"][\"f1-score\"]]\n",
    "asd_f1s_eyecontact=[i * 100 for i in asd_f1s_eyecontact]\n",
    "cc_f1s_eyecontact =[i * 100 for i in cc_f1s_eyecontact]\n",
    "asd_f1s_eyecontact"
   ]
  },
  {
   "cell_type": "code",
   "execution_count": 47,
   "id": "e39ea2a4",
   "metadata": {},
   "outputs": [
    {
     "data": {
      "text/plain": [
       "Text(0, 0.5, 'F1-score (%)')"
      ]
     },
     "execution_count": 47,
     "metadata": {},
     "output_type": "execute_result"
    },
    {
     "data": {
      "image/png": "[encoded data removed]",
      "text/plain": [
       "<Figure size 1008x720 with 2 Axes>"
      ]
     },
     "metadata": {
      "needs_background": "light"
     },
     "output_type": "display_data"
    }
   ],
   "source": [
    "import numpy as np\n",
    "import matplotlib.pyplot as plt\n",
    "plt.figure(figsize=(14, 10))\n",
    "# plt.rc('ytick', labelsize=20) \n",
    "# plt.rc('xtick', labelsize=20) \n",
    "# fig, ax = plt.subplots()\n",
    "\n",
    "N =6\n",
    "ind =np.arange(N)\n",
    "width =0.25\n",
    "plt.subplot(1,2,2)\n",
    "bar1 =plt.bar(ind,cc_f1s_other,width,color='r')\n",
    "bar2 =plt.bar(ind+width,asd_f1s_other,width,color='b')\n",
    "plt.xticks(ind+width,['SV_RGB', 'SV_Flow', 'SV_Fusion','MV_RGB', 'MV_Flow', 'MV_Fusion'], rotation=45,fontsize=16,weight=\"bold\")\n",
    "# plt.legend( (bar1, bar2), ('Control', 'ASD'),bbox_to_anchor=(1, 1), fontsize=16)\n",
    "plt.title(\"Other\", fontsize=20,fontweight=\"bold\")\n",
    "plt.legend( (bar1, bar2), ('Control', 'ASD'), fontsize=16,bbox_to_anchor=(1, 1))\n",
    "\n",
    "plt.subplot(1,2,1)\n",
    "bar1 =plt.bar(ind,cc_f1s_eyecontact,width,color='r')\n",
    "bar2 =plt.bar(ind+width,asd_f1s_eyecontact,width,color='b')\n",
    "plt.xticks(ind+width,['SV_RGB', 'SV_Flow', 'SV_Fusion','MV_RGB', 'MV_Flow', 'MV_Fusion'],rotation = 45, fontsize=16,weight=\"bold\")\n",
    "plt.title(\"Eye Contact\", fontsize=20,fontweight=\"bold\")\n",
    "plt.ylabel('F1-score (%)', fontsize=16,weight=\"bold\")  \n",
    "\n",
    "# plt.savefig(fname=\"F1-score both class.png\",dpi=1200)\n",
    "\n",
    "# ax.bar_label(bars)"
   ]
  },
  {
   "cell_type": "code",
   "execution_count": 48,
   "id": "3547bdb7",
   "metadata": {},
   "outputs": [
    {
     "data": {
      "text/plain": [
       "[81.23711340206185,\n",
       " 81.52866242038218,\n",
       " 86.84759916492693,\n",
       " 88.33333333333334,\n",
       " 89.6551724137931,\n",
       " 96.61016949152543]"
      ]
     },
     "execution_count": 48,
     "metadata": {},
     "output_type": "execute_result"
    }
   ],
   "source": [
    "cc_f1s_eyecontact"
   ]
  },
  {
   "cell_type": "code",
   "execution_count": 49,
   "id": "89c0c2c3",
   "metadata": {},
   "outputs": [
    {
     "data": {
      "text/plain": [
       "[85.51401869158879,\n",
       " 76.49857278782112,\n",
       " 87.76570618800189,\n",
       " 93.67088607594937,\n",
       " 84.70149253731343,\n",
       " 94.03254972875226]"
      ]
     },
     "execution_count": 49,
     "metadata": {},
     "output_type": "execute_result"
    }
   ],
   "source": [
    "asd_f1s_eyecontact"
   ]
  },
  {
   "cell_type": "code",
   "execution_count": 50,
   "id": "9dd9fbcc",
   "metadata": {},
   "outputs": [
    {
     "data": {
      "text/plain": [
       "Text(0.5, 1.0, 'Classification Performance: Other')"
      ]
     },
     "execution_count": 50,
     "metadata": {},
     "output_type": "execute_result"
    },
    {
     "data": {
      "image/png": "[encoded data removed]",
      "text/plain": [
       "<Figure size 1080x864 with 1 Axes>"
      ]
     },
     "metadata": {
      "needs_background": "light"
     },
     "output_type": "display_data"
    }
   ],
   "source": [
    "import numpy as np\n",
    "import matplotlib.pyplot as plt\n",
    "plt.figure(figsize=(15, 12))\n",
    "plt.rc('ytick', labelsize=20) \n",
    "\n",
    "\n",
    "N =6\n",
    "ind =np.arange(N)\n",
    "width =0.25\n",
    "\n",
    "bar1 = plt.bar(ind,cc_f1s_other,width,color='r')\n",
    "bar2 = plt.bar(ind+width,asd_f1s_other,width,color='b')\n",
    "plt.ylabel('F1-score (%)', fontsize=16,weight=\"bold\")  \n",
    "plt.xticks(ind+width,['SV_RGB', 'SV_Flow', 'SV_Fusion','MV_RGB', 'MV_Flow', 'MV_Fusion'], fontsize=16,weight=\"bold\")\n",
    "plt.legend( (bar1, bar2), ('Control', 'ASD'),bbox_to_anchor=(1, 1), fontsize=16)\n",
    "plt.title(\"Classification Performance: Other\", fontsize=20,fontweight=\"bold\")\n",
    "# plt.savefig(fname=\"F1-score comparision Other.png\",dpi=1200)"
   ]
  },
  {
   "cell_type": "code",
   "execution_count": 51,
   "id": "125a0c7b",
   "metadata": {},
   "outputs": [
    {
     "data": {
      "image/png": "[encoded data removed]",
      "text/plain": [
       "<Figure size 1080x1296 with 1 Axes>"
      ]
     },
     "metadata": {
      "needs_background": "light"
     },
     "output_type": "display_data"
    }
   ],
   "source": [
    "import numpy as np\n",
    "import matplotlib.pyplot as plt\n",
    "plt.figure(figsize=(15, 18))\n",
    "plt.rc('ytick', labelsize=20) \n",
    "\n",
    "N =6\n",
    "ind =np.arange(N)\n",
    "width =0.25\n",
    "\n",
    "bar1 = plt.bar(ind,cc_f1s_eyecontact,width,color='r')\n",
    "bar2 = plt.bar(ind+width,asd_f1s_eyecontact,width,color='b')\n",
    "plt.ylabel('F1-score (%)', fontsize=16,weight=\"bold\")  \n",
    "plt.xticks(ind+width,['SingleView_RGB', 'SingleView_Flow', 'SingleView_Fusion','MultipleView_RGB', 'MultipleView_Flow', 'MultipleView_Fusion'],rotation = 45, fontsize=16,weight=\"bold\")\n",
    "plt.legend( (bar1, bar2), ('Control', 'ASD'),bbox_to_anchor=(1, 1), fontsize=16)\n",
    "plt.title(\"Classification Performance: Eye Contact\", fontsize=20,fontweight=\"bold\")\n",
    "plt.savefig(fname=\".//results//F1-score comparision Eye Contact.png\",dpi=1200)"
   ]
  }
 ],
 "metadata": {
  "kernelspec": {
   "display_name": "Python 3",
   "language": "python",
   "name": "python3"
  },
  "language_info": {
   "codemirror_mode": {
    "name": "ipython",
    "version": 3
   },
   "file_extension": ".py",
   "mimetype": "text/x-python",
   "name": "python",
   "nbconvert_exporter": "python",
   "pygments_lexer": "ipython3",
   "version": "3.8.8"
  }
 },
 "nbformat": 4,
 "nbformat_minor": 5
}
